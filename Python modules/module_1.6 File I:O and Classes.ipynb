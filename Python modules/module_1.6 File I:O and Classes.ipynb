{
 "cells": [
  {
   "cell_type": "markdown",
   "metadata": {},
   "source": [
    "# Module 1.6: File I/O - Working with Files\n",
    "## Essential Python concepts for beginners\n",
    "\n",
    "### What You'll Learn\n",
    "- How to work with files (reading/writing data)\n",
    "- How to handle errors\n",
    "- How to create and use classes"
   ]
  },
  {
   "cell_type": "markdown",
   "metadata": {},
   "source": [
    "### Basic File Operations\n",
    "\n",
    "#### Writing to a File"
   ]
  },
  {
   "cell_type": "code",
   "execution_count": null,
   "metadata": {},
   "outputs": [],
   "source": [
    "# Create a new file and write to it\n",
    "with open(\"my_data.txt\", \"w\") as file:\n",
    "    file.write(\"Hello, this is my first file!\\n\")\n",
    "    file.write(\"I can write multiple lines.\\n\")\n",
    "\n",
    "print(\"File created successfully!\")"
   ]
  },
  {
   "cell_type": "markdown",
   "metadata": {},
   "source": [
    "#### Reading from a File"
   ]
  },
  {
   "cell_type": "code",
   "execution_count": null,
   "metadata": {},
   "outputs": [],
   "source": [
    "# Read the file we just created\n",
    "with open(\"my_data.txt\", \"r\") as file:\n",
    "    content = file.read()\n",
    "    print(\"File contents:\")\n",
    "    print(content)"
   ]
  },
  {
   "cell_type": "markdown",
   "metadata": {},
   "source": [
    "#### Working with CSV Files"
   ]
  },
  {
   "cell_type": "code",
   "execution_count": null,
   "metadata": {},
   "outputs": [],
   "source": [
    "import csv\n",
    "\n",
    "# Create a simple CSV file\n",
    "data = [\n",
    "    [\"Name\", \"Age\", \"City\"],\n",
    "    [\"Alice\", \"25\", \"New York\"],\n",
    "    [\"Bob\", \"30\", \"Los Angeles\"]\n",
    "]\n",
    "\n",
    "with open(\"people.csv\", \"w\", newline=\"\") as file:\n",
    "    writer = csv.writer(file)\n",
    "    writer.writerows(data)\n",
    "\n",
    "print(\"CSV file created!\")"
   ]
  },
  {
   "cell_type": "markdown",
   "metadata": {},
   "source": [
    "## Exception Handling - Dealing with Errors\n",
    "\n",
    "AI applications often encounter unexpected situations. Exception handling helps your program continue running even when errors occur."
   ]
  },
  {
   "cell_type": "markdown",
   "metadata": {},
   "source": [
    "### Basic Error Handling"
   ]
  },
  {
   "cell_type": "code",
   "execution_count": null,
   "metadata": {},
   "outputs": [
    {
     "name": "stdout",
     "output_type": "stream",
     "text": [
      "❌ You can't divide by zero!\n"
     ]
    }
   ],
   "source": [
    "# Handle division by zero\n",
    "try:\n",
    "    number = int(input(\"Enter a number: \"))\n",
    "    result = 10 / number\n",
    "    print(f\"10 / {number} = {result}\")\n",
    "except ZeroDivisionError:\n",
    "    print(\"You can't divide by zero!\")\n",
    "except ValueError:\n",
    "    print(\"Please enter a valid number!\")"
   ]
  },
  {
   "cell_type": "markdown",
   "metadata": {},
   "source": [
    "### Example"
   ]
  },
  {
   "cell_type": "code",
   "execution_count": null,
   "metadata": {},
   "outputs": [],
   "source": [
    "def process_data(data_list):\n",
    "    results = []\n",
    "    \n",
    "    for item in data_list:\n",
    "        try:\n",
    "            # Try to convert to number\n",
    "            number = float(item)\n",
    "            results.append(number * 2)\n",
    "        except ValueError:\n",
    "            print(f\"Skipping invalid item: {item}\")\n",
    "            results.append(None)\n",
    "    \n",
    "    return results\n",
    "\n",
    "# Test with mixed data\n",
    "test_data = [\"1.5\", \"2.0\", \"invalid\", \"3.7\"]\n",
    "processed = process_data(test_data)\n",
    "print(f\"Original: {test_data}\")\n",
    "print(f\"Processed: {processed}\")"
   ]
  },
  {
   "cell_type": "markdown",
   "metadata": {},
   "source": [
    "## Classes and Objects - Organizing Your Code\n",
    "\n",
    "Classes help you organize related data and functions together. This is how you'll structure AI models and data processing tools."
   ]
  },
  {
   "cell_type": "markdown",
   "metadata": {},
   "source": [
    "### Simple Class Example"
   ]
  },
  {
   "cell_type": "code",
   "execution_count": 15,
   "metadata": {},
   "outputs": [
    {
     "name": "stdout",
     "output_type": "stream",
     "text": [
      "🔄 Training MyFirstModel...\n",
      "✅ Training complete! Accuracy: 0.74\n",
      "🔮 Prediction: 0\n"
     ]
    },
    {
     "data": {
      "text/plain": [
       "0"
      ]
     },
     "execution_count": 15,
     "metadata": {},
     "output_type": "execute_result"
    }
   ],
   "source": [
    "class AIModel:\n",
    "    def __init__(self, name):\n",
    "        self.name = name\n",
    "        self.accuracy = 0.0\n",
    "        self.is_trained = False\n",
    "    \n",
    "    def train(self):\n",
    "        print(f\"🔄 Training {self.name}...\")\n",
    "        # Simulate training\n",
    "        import random\n",
    "        self.accuracy = random.uniform(0.7, 0.95)\n",
    "        self.is_trained = True\n",
    "        print(f\"✅ Training complete! Accuracy: {self.accuracy:.2f}\")\n",
    "    \n",
    "    def predict(self, data):\n",
    "        if not self.is_trained:\n",
    "            print(\"❌ Train the model first!\")\n",
    "            return None\n",
    "        \n",
    "        # Simulate prediction\n",
    "        import random\n",
    "        result = random.choice([0, 1])\n",
    "        print(f\"🔮 Prediction: {result}\")\n",
    "        return result\n",
    "\n",
    "# Use the class\n",
    "model = AIModel(\"MyFirstModel\")\n",
    "model.train()\n",
    "model.predict([1, 2, 3])"
   ]
  },
  {
   "cell_type": "markdown",
   "metadata": {},
   "source": [
    "## Practice Ideas\n",
    "\n",
    "- Try modifying the examples above\n",
    "- Create your own simple class\n",
    "- Work with different types of files\n",
    "- Handle various error cases\n",
    "\n",
    "*Keep it simple and practice regularly*"
   ]
  }
 ],
 "metadata": {
  "kernelspec": {
   "display_name": "base",
   "language": "python",
   "name": "python3"
  },
  "language_info": {
   "codemirror_mode": {
    "name": "ipython",
    "version": 3
   },
   "file_extension": ".py",
   "mimetype": "text/x-python",
   "name": "python",
   "nbconvert_exporter": "python",
   "pygments_lexer": "ipython3",
   "version": "3.12.4"
  }
 },
 "nbformat": 4,
 "nbformat_minor": 4
}
