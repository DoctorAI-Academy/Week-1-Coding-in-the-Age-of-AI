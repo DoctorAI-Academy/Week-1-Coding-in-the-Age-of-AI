{
 "cells": [
  {
   "cell_type": "markdown",
   "metadata": {},
   "source": [
    "# Module 4: Functions, Lists, and Dictionaries\n",
    "\n",
    "In this module, you'll learn how to organize your code into reusable functions and work with powerful data structures. Functions are like mini programs within your program, while lists and dictionaries help you store and manage collections of data efficiently.\n",
    "\n",
    "## Learning Objectives\n",
    "\n",
    "By the end of this module, you will be able to:\n",
    "- Create and call functions with parameters and return values\n",
    "- Understand function scope and local vs global variables\n",
    "- Work with lists: creating, accessing, modifying, and iterating\n",
    "- Use dictionaries to store key-value pairs\n",
    "- Apply list comprehensions for efficient data processing\n",
    "- Build modular, reusable code\n",
    "- Combine functions and data structures for complex applications"
   ]
  },
  {
   "cell_type": "markdown",
   "metadata": {},
   "source": [
    "## Section 1: Functions\n",
    "\n",
    "Functions are reusable blocks of code that perform specific tasks. They help you avoid repeating code and make your programs more organized.\n",
    "\n",
    "### Basic Function Definition"
   ]
  },
  {
   "cell_type": "code",
   "execution_count": 1,
   "metadata": {},
   "outputs": [
    {
     "name": "stdout",
     "output_type": "stream",
     "text": [
      "Hello, World!\n"
     ]
    }
   ],
   "source": [
    "# Simple function without parameters\n",
    "def greet():\n",
    "    print(\"Hello, World!\")\n",
    "\n",
    "# Calling the function\n",
    "greet()"
   ]
  },
  {
   "cell_type": "code",
   "execution_count": 2,
   "metadata": {},
   "outputs": [
    {
     "name": "stdout",
     "output_type": "stream",
     "text": [
      "Hello, Alice!\n",
      "Hello, Bob!\n"
     ]
    }
   ],
   "source": [
    "# Function with parameters\n",
    "def greet_person(name):\n",
    "    print(f\"Hello, {name}!\")\n",
    "\n",
    "# Calling with different arguments\n",
    "greet_person(\"Alice\")\n",
    "greet_person(\"Bob\")"
   ]
  },
  {
   "cell_type": "code",
   "execution_count": 4,
   "metadata": {},
   "outputs": [
    {
     "name": "stdout",
     "output_type": "stream",
     "text": [
      "5 + 3 = 8\n"
     ]
    }
   ],
   "source": [
    "# Function with multiple parameters\n",
    "def add_numbers(a, b):\n",
    "    result = a + b\n",
    "    return result\n",
    "\n",
    "# Using the return value\n",
    "sum_result = add_numbers(5, 3)\n",
    "print(f\"5 + 3 = {sum_result}\")"
   ]
  },
  {
   "cell_type": "code",
   "execution_count": 3,
   "metadata": {},
   "outputs": [
    {
     "name": "stdout",
     "output_type": "stream",
     "text": [
      "Hello, Mr. Smith!\n",
      "Hello, Dr. Johnson!\n"
     ]
    }
   ],
   "source": [
    "# Function with default parameters\n",
    "def greet_with_title(name, title=\"Mr.\"):\n",
    "    print(f\"Hello, {title} {name}!\")\n",
    "\n",
    "greet_with_title(\"Smith\")  # Uses default title\n",
    "greet_with_title(\"Johnson\", \"Dr.\")  # Custom title"
   ]
  },
  {
   "cell_type": "markdown",
   "metadata": {},
   "source": [
    "### Function with Return Values"
   ]
  },
  {
   "cell_type": "code",
   "execution_count": null,
   "metadata": {},
   "outputs": [],
   "source": [
    "# Function that returns a value\n",
    "def calculate_area(length, width):\n",
    "    area = length * width\n",
    "    return area"
   ]
  },
  {
   "cell_type": "markdown",
   "metadata": {},
   "source": [
    "### Function Scope and Variables"
   ]
  },
  {
   "cell_type": "code",
   "execution_count": 5,
   "metadata": {},
   "outputs": [],
   "source": [
    "# Global variable\n",
    "global_counter = 0\n",
    "\n",
    "def increment_counter():\n",
    "    global global_counter  # Declare we want to modify global variable\n",
    "    global_counter += 1\n",
    "    print(f\"Counter: {global_counter}\")\n",
    "\n",
    "def create_local_variable():\n",
    "    local_var = \"I'm local to this function\"\n",
    "    print(local_var)\n",
    "    # This variable only exists inside this function"
   ]
  },
  {
   "cell_type": "code",
   "execution_count": 27,
   "metadata": {},
   "outputs": [
    {
     "name": "stdout",
     "output_type": "stream",
     "text": [
      "Counter: 59\n",
      "Counter: 60\n",
      "Counter: 61\n",
      "I'm local to this function\n"
     ]
    }
   ],
   "source": [
    "# Test function scope\n",
    "increment_counter()\n",
    "increment_counter()\n",
    "increment_counter()\n",
    "create_local_variable()\n",
    "#print(local_var)  # This would cause an error. local_var doesn't exist here"
   ]
  },
  {
   "cell_type": "markdown",
   "metadata": {},
   "source": [
    "## Section 2: Lists - Ordered Collections\n",
    "\n",
    "Lists are ordered collections that can store multiple items of any type. They're one of Python's most versatile data structures.\n",
    "\n",
    "### Creating and Accessing Lists"
   ]
  },
  {
   "cell_type": "code",
   "execution_count": 28,
   "metadata": {},
   "outputs": [],
   "source": [
    "# Creating lists\n",
    "fruits = [\"apple\", \"banana\", \"orange\", \"grape\"]\n",
    "numbers = [1, 2, 3, 4, 5]\n",
    "mixed = [\"hello\", 42, 3.14, True]"
   ]
  },
  {
   "cell_type": "code",
   "execution_count": 29,
   "metadata": {},
   "outputs": [
    {
     "name": "stdout",
     "output_type": "stream",
     "text": [
      "First fruit: apple\n",
      "Last fruit: grape\n",
      "Second fruit: banana\n"
     ]
    }
   ],
   "source": [
    "# Accessing elements (indexing starts at 0)\n",
    "print(f\"First fruit: {fruits[0]}\")\n",
    "print(f\"Last fruit: {fruits[-1]}\")\n",
    "print(f\"Second fruit: {fruits[1]}\")"
   ]
  },
  {
   "cell_type": "code",
   "execution_count": 30,
   "metadata": {},
   "outputs": [
    {
     "name": "stdout",
     "output_type": "stream",
     "text": [
      "First three fruits: ['apple', 'banana', 'orange']\n",
      "Last two fruits: ['orange', 'grape']\n",
      "Every other fruit: ['apple', 'orange']\n"
     ]
    }
   ],
   "source": [
    "# Slicing lists\n",
    "print(f\"First three fruits: {fruits[0:3]}\")\n",
    "print(f\"Last two fruits: {fruits[-2:]}\")\n",
    "print(f\"Every other fruit: {fruits[::2]}\")"
   ]
  },
  {
   "cell_type": "code",
   "execution_count": 31,
   "metadata": {},
   "outputs": [
    {
     "name": "stdout",
     "output_type": "stream",
     "text": [
      "Number of fruits: 4\n"
     ]
    }
   ],
   "source": [
    "# List length\n",
    "print(f\"Number of fruits: {len(fruits)}\")"
   ]
  },
  {
   "cell_type": "code",
   "execution_count": 35,
   "metadata": {},
   "outputs": [
    {
     "name": "stdout",
     "output_type": "stream",
     "text": [
      "Apple is in the list!\n"
     ]
    }
   ],
   "source": [
    "# Checking if item exists\n",
    "if \"apple\" in fruits:\n",
    "    print(\"Apple is in the list!\")"
   ]
  },
  {
   "cell_type": "markdown",
   "metadata": {},
   "source": [
    "### Modifying Lists"
   ]
  },
  {
   "cell_type": "code",
   "execution_count": 36,
   "metadata": {},
   "outputs": [
    {
     "name": "stdout",
     "output_type": "stream",
     "text": [
      "After append: ['apple', 'banana', 'orange', 'grape', 'mango']\n",
      "After insert: ['apple', 'kiwi', 'banana', 'orange', 'grape', 'mango']\n"
     ]
    }
   ],
   "source": [
    "# Adding elements\n",
    "fruits.append(\"mango\")  # Add to end\n",
    "print(f\"After append: {fruits}\")\n",
    "\n",
    "fruits.insert(1, \"kiwi\")  # Insert at specific position\n",
    "print(f\"After insert: {fruits}\")"
   ]
  },
  {
   "cell_type": "code",
   "execution_count": 37,
   "metadata": {},
   "outputs": [
    {
     "name": "stdout",
     "output_type": "stream",
     "text": [
      "After remove: ['apple', 'kiwi', 'orange', 'grape', 'mango']\n",
      "Popped: mango\n",
      "After pop: ['apple', 'kiwi', 'orange', 'grape']\n"
     ]
    }
   ],
   "source": [
    "# Removing elements\n",
    "fruits.remove(\"banana\")  # Remove by value\n",
    "print(f\"After remove: {fruits}\")\n",
    "\n",
    "popped_fruit = fruits.pop()  # Remove and return last element\n",
    "print(f\"Popped: {popped_fruit}\")\n",
    "print(f\"After pop: {fruits}\")"
   ]
  },
  {
   "cell_type": "code",
   "execution_count": 38,
   "metadata": {},
   "outputs": [
    {
     "name": "stdout",
     "output_type": "stream",
     "text": [
      "After modification: ['strawberry', 'kiwi', 'orange', 'grape']\n"
     ]
    }
   ],
   "source": [
    "# Modifying elements\n",
    "fruits[0] = \"strawberry\"\n",
    "print(f\"After modification: {fruits}\")"
   ]
  },
  {
   "cell_type": "code",
   "execution_count": 39,
   "metadata": {},
   "outputs": [
    {
     "name": "stdout",
     "output_type": "stream",
     "text": [
      "Sorted: ['grape', 'kiwi', 'orange', 'strawberry']\n",
      "Sorted numbers: [9, 6, 5, 4, 3, 2, 1, 1]\n"
     ]
    }
   ],
   "source": [
    "# Sorting\n",
    "fruits.sort()  # Sort alphabetically\n",
    "print(f\"Sorted: {fruits}\")\n",
    "\n",
    "numbers = [3, 1, 4, 1, 5, 9, 2, 6]\n",
    "numbers.sort(reverse=True)  # Sort in descending order\n",
    "print(f\"Sorted numbers: {numbers}\")"
   ]
  },
  {
   "cell_type": "markdown",
   "metadata": {},
   "source": [
    "### Working with Lists"
   ]
  },
  {
   "cell_type": "code",
   "execution_count": 40,
   "metadata": {},
   "outputs": [
    {
     "name": "stdout",
     "output_type": "stream",
     "text": [
      "My favorite fruits:\n",
      "- grape\n",
      "- kiwi\n",
      "- orange\n",
      "- strawberry\n"
     ]
    }
   ],
   "source": [
    "# Iterating through lists\n",
    "print(\"My favorite fruits:\")\n",
    "for fruit in fruits:\n",
    "    print(f\"- {fruit}\")"
   ]
  },
  {
   "cell_type": "code",
   "execution_count": 41,
   "metadata": {},
   "outputs": [
    {
     "name": "stdout",
     "output_type": "stream",
     "text": [
      "1. grape\n",
      "2. kiwi\n",
      "3. orange\n",
      "4. strawberry\n"
     ]
    }
   ],
   "source": [
    "# Iterating with index\n",
    "for index, fruit in enumerate(fruits):\n",
    "    print(f\"{index + 1}. {fruit}\")"
   ]
  },
  {
   "cell_type": "code",
   "execution_count": null,
   "metadata": {},
   "outputs": [
    {
     "name": "stdout",
     "output_type": "stream",
     "text": [
      "Squares: [1, 4, 9, 16, 25]\n"
     ]
    }
   ],
   "source": [
    "# List comprehension\n",
    "squares = [x**2 for x in range(1, 6)]\n",
    "print(f\"Squares: {squares}\")"
   ]
  },
  {
   "cell_type": "code",
   "execution_count": 43,
   "metadata": {},
   "outputs": [
    {
     "name": "stdout",
     "output_type": "stream",
     "text": [
      "Even numbers: [2, 4, 6, 8, 10]\n"
     ]
    }
   ],
   "source": [
    "# Filtering with list comprehension\n",
    "even_numbers = [x for x in range(1, 11) if x % 2 == 0]\n",
    "print(f\"Even numbers: {even_numbers}\")\n"
   ]
  },
  {
   "cell_type": "code",
   "execution_count": 44,
   "metadata": {},
   "outputs": [
    {
     "name": "stdout",
     "output_type": "stream",
     "text": [
      "Combined: [1, 2, 3, 4, 5, 6]\n"
     ]
    }
   ],
   "source": [
    "# Combining lists\n",
    "list1 = [1, 2, 3]\n",
    "list2 = [4, 5, 6]\n",
    "combined = list1 + list2\n",
    "print(f\"Combined: {combined}\")"
   ]
  },
  {
   "cell_type": "code",
   "execution_count": 45,
   "metadata": {},
   "outputs": [
    {
     "name": "stdout",
     "output_type": "stream",
     "text": [
      "Repeated: [1, 2, 3, 1, 2, 3, 1, 2, 3]\n"
     ]
    }
   ],
   "source": [
    "# Repeating lists\n",
    "repeated = list1 * 3\n",
    "print(f\"Repeated: {repeated}\")"
   ]
  },
  {
   "cell_type": "markdown",
   "metadata": {},
   "source": [
    "## Section 3: Dictionaries \n",
    "\n",
    "Dictionaries store data as key-value pairs, making them perfect for organizing related information.\n",
    "\n",
    "### Creating and Accessing Dictionaries"
   ]
  },
  {
   "cell_type": "code",
   "execution_count": 46,
   "metadata": {},
   "outputs": [],
   "source": [
    "# Creating dictionaries\n",
    "person = {\n",
    "    \"name\": \"Alice\",\n",
    "    \"age\": 25,\n",
    "    \"city\": \"New York\",\n",
    "    \"is_student\": True\n",
    "}"
   ]
  },
  {
   "cell_type": "code",
   "execution_count": 47,
   "metadata": {},
   "outputs": [
    {
     "name": "stdout",
     "output_type": "stream",
     "text": [
      "Name: Alice\n",
      "Age: 25\n"
     ]
    }
   ],
   "source": [
    "# Accessing values\n",
    "print(f\"Name: {person['name']}\")\n",
    "print(f\"Age: {person['age']}\")"
   ]
  },
  {
   "cell_type": "code",
   "execution_count": 48,
   "metadata": {},
   "outputs": [
    {
     "name": "stdout",
     "output_type": "stream",
     "text": [
      "City: New York\n",
      "Phone: Not provided\n"
     ]
    }
   ],
   "source": [
    "# Using get() method (safer)\n",
    "print(f\"City: {person.get('city', 'Unknown')}\")\n",
    "print(f\"Phone: {person.get('phone', 'Not provided')}\")"
   ]
  },
  {
   "cell_type": "code",
   "execution_count": 49,
   "metadata": {},
   "outputs": [
    {
     "name": "stdout",
     "output_type": "stream",
     "text": [
      "Age is: 25\n"
     ]
    }
   ],
   "source": [
    "# Checking if key exists\n",
    "if \"age\" in person:\n",
    "    print(f\"Age is: {person['age']}\")"
   ]
  },
  {
   "cell_type": "code",
   "execution_count": 50,
   "metadata": {},
   "outputs": [
    {
     "name": "stdout",
     "output_type": "stream",
     "text": [
      "Keys: ['name', 'age', 'city', 'is_student']\n",
      "Values: ['Alice', 25, 'New York', True]\n",
      "Items: [('name', 'Alice'), ('age', 25), ('city', 'New York'), ('is_student', True)]\n"
     ]
    }
   ],
   "source": [
    "# Dictionary methods\n",
    "print(f\"Keys: {list(person.keys())}\")\n",
    "print(f\"Values: {list(person.values())}\")\n",
    "print(f\"Items: {list(person.items())}\")"
   ]
  },
  {
   "cell_type": "markdown",
   "metadata": {},
   "source": [
    "### Modifying Dictionaries"
   ]
  },
  {
   "cell_type": "code",
   "execution_count": null,
   "metadata": {},
   "outputs": [],
   "source": [
    "# Adding new key-value pairs\n",
    "person[\"email\"] = \"alice@email.com\"\n",
    "person[\"phone\"] = \"555-1234\"\n",
    "print(f\"Updated person: {person}\")"
   ]
  },
  {
   "cell_type": "code",
   "execution_count": null,
   "metadata": {},
   "outputs": [],
   "source": [
    "# Modifying existing values\n",
    "person[\"age\"] = 26\n",
    "print(f\"Updated age: {person}\")"
   ]
  },
  {
   "cell_type": "code",
   "execution_count": null,
   "metadata": {},
   "outputs": [],
   "source": [
    "# Removing items\n",
    "removed_value = person.pop(\"phone\")\n",
    "print(f\"Removed: {removed_value}\")\n",
    "print(f\"After pop: {person}\")\n",
    "\n",
    "# Clear all items\n",
    "# person.clear()  # Uncomment to clear"
   ]
  },
  {
   "cell_type": "code",
   "execution_count": null,
   "metadata": {},
   "outputs": [],
   "source": [
    "# Nested dictionaries\n",
    "student = {\n",
    "    \"name\": \"Bob\",\n",
    "    \"grades\": {\n",
    "        \"math\": 85,\n",
    "        \"science\": 92,\n",
    "        \"english\": 78\n",
    "    },\n",
    "    \"contact\": {\n",
    "        \"email\": \"bob@school.com\",\n",
    "        \"phone\": \"555-5678\"\n",
    "    }\n",
    "}"
   ]
  },
  {
   "cell_type": "code",
   "execution_count": null,
   "metadata": {},
   "outputs": [],
   "source": [
    "# Accessing nested values\n",
    "print(f\"Math grade: {student['grades']['math']}\")\n",
    "print(f\"Email: {student['contact']['email']}\")"
   ]
  },
  {
   "cell_type": "markdown",
   "metadata": {},
   "source": [
    "### Working with Dictionaries"
   ]
  },
  {
   "cell_type": "code",
   "execution_count": null,
   "metadata": {},
   "outputs": [],
   "source": [
    "# Iterating through dictionaries\n",
    "print(\"Person information:\")\n",
    "for key, value in person.items():\n",
    "    print(f\"{key}: {value}\")"
   ]
  },
  {
   "cell_type": "code",
   "execution_count": null,
   "metadata": {},
   "outputs": [],
   "source": [
    "# Iterating through keys only\n",
    "print(\"Keys:\")\n",
    "for key in person.keys():\n",
    "    print(f\"- {key}\")"
   ]
  },
  {
   "cell_type": "code",
   "execution_count": null,
   "metadata": {},
   "outputs": [],
   "source": [
    "# Iterating through values only\n",
    "print(\"Values:\")\n",
    "for value in person.values():\n",
    "    print(f\"- {value}\")"
   ]
  },
  {
   "cell_type": "code",
   "execution_count": null,
   "metadata": {},
   "outputs": [],
   "source": [
    "# Dictionary comprehension\n",
    "squares_dict = {x: x**2 for x in range(1, 6)}\n",
    "print(f\"Squares dictionary: {squares_dict}\")"
   ]
  },
  {
   "cell_type": "code",
   "execution_count": null,
   "metadata": {},
   "outputs": [],
   "source": [
    "# Filtering dictionary\n",
    "high_grades = {subject: grade for subject, grade in student['grades'].items() if grade >= 85}\n",
    "print(f\"High grades: {high_grades}\")"
   ]
  },
  {
   "cell_type": "markdown",
   "metadata": {},
   "source": [
    "## Section 4: Combining Functions and Data Structures\n"
   ]
  },
  {
   "cell_type": "code",
   "execution_count": null,
   "metadata": {},
   "outputs": [],
   "source": [
    "# Function that works with lists\n",
    "def calculate_average(numbers):\n",
    "    if len(numbers) == 0:\n",
    "        return 0\n",
    "    return sum(numbers) / len(numbers)\n"
   ]
  },
  {
   "cell_type": "code",
   "execution_count": null,
   "metadata": {},
   "outputs": [],
   "source": [
    "# Function that works with dictionaries\n",
    "def find_highest_grade(student_grades):\n",
    "    if not student_grades:\n",
    "        return None, None\n",
    "    highest_subject = max(student_grades, key=student_grades.get)\n",
    "    highest_grade = student_grades[highest_subject]\n",
    "    return highest_subject, highest_grade\n"
   ]
  },
  {
   "cell_type": "code",
   "execution_count": null,
   "metadata": {},
   "outputs": [],
   "source": [
    "# Function that returns a list\n",
    "def generate_fibonacci(n):\n",
    "    if n <= 0:\n",
    "        return []\n",
    "    elif n == 1:\n",
    "        return [0]\n",
    "    \n",
    "    fib = [0, 1]\n",
    "    for i in range(2, n):\n",
    "        fib.append(fib[i-1] + fib[i-2])\n",
    "    return fib"
   ]
  },
  {
   "cell_type": "code",
   "execution_count": null,
   "metadata": {},
   "outputs": [],
   "source": [
    "# Function that returns a dictionary\n",
    "def create_student_profile(name, age, grades):\n",
    "    return {\n",
    "        \"name\": name,\n",
    "        \"age\": age,\n",
    "        \"grades\": grades,\n",
    "        \"average\": calculate_average(list(grades.values())),\n",
    "        \"highest_subject\": find_highest_grade(grades)[0]\n",
    "    }"
   ]
  },
  {
   "cell_type": "code",
   "execution_count": null,
   "metadata": {},
   "outputs": [],
   "source": [
    "# Using these functions\n",
    "test_numbers = [85, 92, 78, 95, 88]\n",
    "print(f\"Average: {calculate_average(test_numbers)}\")\n",
    "\n",
    "test_grades = {\"math\": 85, \"science\": 92, \"english\": 78}\n",
    "subject, grade = find_highest_grade(test_grades)\n",
    "print(f\"Highest grade: {grade} in {subject}\")\n",
    "\n",
    "fib_sequence = generate_fibonacci(10)\n",
    "print(f\"Fibonacci sequence: {fib_sequence}\")\n",
    "\n",
    "student_profile = create_student_profile(\"Charlie\", 18, test_grades)\n",
    "print(f\"Student profile: {student_profile}\")"
   ]
  },
  {
   "cell_type": "markdown",
   "metadata": {},
   "source": [
    "## Practice Exercises\n",
    "\n",
    "### Exercise 1: Grade Calculator Function\n",
    "Create a function that:\n",
    "- Takes a list of scores\n",
    "- Returns a dictionary with statistics (average, highest, lowest, count)\n",
    "- Handles empty lists gracefully"
   ]
  },
  {
   "cell_type": "code",
   "execution_count": null,
   "metadata": {},
   "outputs": [],
   "source": [
    "# Your code here\n",
    "def grade_calculator(scores):\n",
    "    # TODO: Implement the grade calculator function\n",
    "    pass\n",
    "\n",
    "# Test your function\n",
    "test_scores = [85, 92, 78, 95, 88, 91]\n",
    "# result = grade_calculator(test_scores)\n",
    "# print(result)"
   ]
  },
  {
   "cell_type": "markdown",
   "metadata": {},
   "source": [
    "### Exercise 2: Contact Book\n",
    "Create a contact book system that:\n",
    "- Stores contacts as dictionaries\n",
    "- Has functions to add, remove, and search contacts\n",
    "- Displays all contacts in a formatted way"
   ]
  },
  {
   "cell_type": "code",
   "execution_count": null,
   "metadata": {},
   "outputs": [],
   "source": [
    "# Your code here\n",
    "contacts = []\n",
    "\n",
    "def add_contact(name, phone, email):\n",
    "    # TODO: Implement add contact function\n",
    "    pass\n",
    "\n",
    "def remove_contact(name):\n",
    "    # TODO: Implement remove contact function\n",
    "    pass\n",
    "\n",
    "def search_contact(name):\n",
    "    # TODO: Implement search contact function\n",
    "    pass\n",
    "\n",
    "def display_contacts():\n",
    "    # TODO: Implement display contacts function\n",
    "    pass"
   ]
  },
  {
   "cell_type": "markdown",
   "metadata": {},
   "source": [
    "### Exercise 3: Shopping Cart\n",
    "Create a shopping cart that:\n",
    "- Uses a list of dictionaries for items\n",
    "- Has functions to add, remove, and calculate total\n",
    "- Applies discounts based on total amount"
   ]
  },
  {
   "cell_type": "code",
   "execution_count": null,
   "metadata": {},
   "outputs": [],
   "source": [
    "# Your code here\n",
    "shopping_cart = []\n",
    "\n",
    "def add_item(name, price, quantity=1):\n",
    "    # TODO: Implement add item function\n",
    "    pass\n",
    "\n",
    "def remove_item(name):\n",
    "    # TODO: Implement remove item function\n",
    "    pass\n",
    "\n",
    "def calculate_total():\n",
    "    # TODO: Implement calculate total function\n",
    "    pass\n",
    "\n",
    "def apply_discount(total):\n",
    "    # TODO: Implement discount function\n",
    "    pass"
   ]
  },
  {
   "cell_type": "markdown",
   "metadata": {},
   "source": [
    "### Exercise 4: Word Counter\n",
    "Create a function that:\n",
    "- Takes a text string\n",
    "- Returns a dictionary with word frequencies\n",
    "- Handles punctuation and case sensitivity"
   ]
  },
  {
   "cell_type": "code",
   "execution_count": null,
   "metadata": {},
   "outputs": [],
   "source": [
    "# Your code here\n",
    "def word_counter(text):\n",
    "    # TODO: Implement word counter function\n",
    "    pass\n",
    "\n",
    "# Test your function\n",
    "sample_text = \"The quick brown fox jumps over the lazy dog. The fox is quick and brown.\"\n",
    "# result = word_counter(sample_text)\n",
    "# print(result)"
   ]
  },
  {
   "cell_type": "markdown",
   "metadata": {},
   "source": [
    "## Section 5: Common Pitfalls and Best Practices\n",
    "\n",
    "### 1. Mutable vs Immutable Objects"
   ]
  },
  {
   "cell_type": "code",
   "execution_count": null,
   "metadata": {},
   "outputs": [],
   "source": [
    "# Lists are mutable (can be changed)\n",
    "original_list = [1, 2, 3]\n",
    "modified_list = original_list\n",
    "modified_list.append(4)\n",
    "print(f\"Original: {original_list}\")  # Also changed!"
   ]
  },
  {
   "cell_type": "code",
   "execution_count": null,
   "metadata": {},
   "outputs": [],
   "source": [
    "# To create a copy\n",
    "import copy\n",
    "safe_copy = copy.deepcopy(original_list)"
   ]
  },
  {
   "cell_type": "markdown",
   "metadata": {},
   "source": [
    "### 2. Function Parameter Defaults"
   ]
  },
  {
   "cell_type": "code",
   "execution_count": null,
   "metadata": {},
   "outputs": [],
   "source": [
    "# Dangerous - mutable default\n",
    "# def add_item(item, items=[]):\n",
    "#     items.append(item)\n",
    "#     return items\n",
    "\n",
    "# ✅ Safe - immutable default\n",
    "def add_item(item, items=None):\n",
    "    if items is None:\n",
    "        items = []\n",
    "    items.append(item)\n",
    "    return items"
   ]
  },
  {
   "cell_type": "markdown",
   "metadata": {},
   "source": [
    "### 3. Dictionary Key Types"
   ]
  },
  {
   "cell_type": "code",
   "execution_count": null,
   "metadata": {},
   "outputs": [],
   "source": [
    "# Only immutable types can be keys\n",
    "valid_dict = {\n",
    "    \"string\": \"value\",\n",
    "    42: \"number key\",\n",
    "    (1, 2): \"tuple key\"\n",
    "}\n",
    "\n",
    "# This would cause an error:\n",
    "# invalid_dict = {[1, 2]: \"list key\"}  # Lists are mutable"
   ]
  },
  {
   "cell_type": "markdown",
   "metadata": {},
   "source": [
    "### 4. List vs Dictionary Performance"
   ]
  },
  {
   "cell_type": "code",
   "execution_count": null,
   "metadata": {},
   "outputs": [],
   "source": [
    "# Use lists for ordered data, frequent indexing\n",
    "ordered_data = [1, 2, 3, 4, 5]\n",
    "\n",
    "# Use dictionaries for lookups, key-value relationships\n",
    "lookup_data = {\"apple\": 1.50, \"banana\": 0.75, \"orange\": 1.25}"
   ]
  },
  {
   "cell_type": "markdown",
   "metadata": {},
   "source": [
    "## Module Summary\n",
    "\n",
    "In this module, you've learned:\n",
    "- How to create and use functions with parameters and return values\n",
    "- Understanding function scope and variable visibility\n",
    "- Working with lists: creation, modification, and iteration\n",
    "- Using dictionaries for key-value data storage\n",
    "- List comprehensions for efficient data processing\n",
    "- Combining functions and data structures\n",
    "- Best practices for code organization and data management\n",
    "\n",
    "**Next Steps:** In Module 6, you'll build a comprehensive BMI calculator project that combines everything you've learnt in this course.\n",
    "\n",
    "\n",
    "## Challenge: Personal Library Management System\n",
    "\n",
    "Create a library system that:\n",
    "1. Stores books as dictionaries with title, author, year, genre\n",
    "2. Has functions to add, remove, and search books\n",
    "3. Tracks borrowed books and due dates\n",
    "4. Calculates statistics (most popular genre, average year)\n",
    "5. Exports data to a formatted report\n",
    "6. Handles multiple users and their reading lists\n",
    "\n",
    "This will combine functions, lists, dictionaries, and file operations!"
   ]
  },
  {
   "cell_type": "code",
   "execution_count": null,
   "metadata": {},
   "outputs": [],
   "source": [
    "# Challenge: Personal Library Management System\n",
    "# TODO: Implement the complete library management system\n",
    "\n",
    "class Library:\n",
    "    def __init__(self):\n",
    "        self.books = []\n",
    "        self.borrowed_books = {}\n",
    "        self.users = {}\n",
    "    \n",
    "    def add_book(self, title, author, year, genre):\n",
    "        # TODO: Implement add book functionality\n",
    "        pass\n",
    "    \n",
    "    def remove_book(self, title):\n",
    "        # TODO: Implement remove book functionality\n",
    "        pass\n",
    "    \n",
    "    def search_books(self, query):\n",
    "        # TODO: Implement search functionality\n",
    "        pass\n",
    "    \n",
    "    def borrow_book(self, user_id, book_title):\n",
    "        # TODO: Implement borrow functionality\n",
    "        pass\n",
    "    \n",
    "    def return_book(self, user_id, book_title):\n",
    "        # TODO: Implement return functionality\n",
    "        pass\n",
    "    \n",
    "    def generate_statistics(self):\n",
    "        # TODO: Implement statistics generation\n",
    "        pass\n",
    "    \n",
    "    def export_report(self, filename):\n",
    "        # TODO: Implement report export\n",
    "        pass\n",
    "\n",
    "# Test your library system\n",
    "# library = Library()\n",
    "# library.add_book(\"Python Programming\", \"John Smith\", 2023, \"Programming\")\n",
    "# library.add_book(\"Data Science Basics\", \"Jane Doe\", 2022, \"Data Science\")\n",
    "# print(library.generate_statistics())"
   ]
  }
 ],
 "metadata": {
  "kernelspec": {
   "display_name": "base",
   "language": "python",
   "name": "python3"
  },
  "language_info": {
   "codemirror_mode": {
    "name": "ipython",
    "version": 3
   },
   "file_extension": ".py",
   "mimetype": "text/x-python",
   "name": "python",
   "nbconvert_exporter": "python",
   "pygments_lexer": "ipython3",
   "version": "3.12.4"
  }
 },
 "nbformat": 4,
 "nbformat_minor": 4
}
