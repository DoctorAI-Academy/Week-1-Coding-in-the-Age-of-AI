{
 "cells": [
  {
   "cell_type": "markdown",
   "id": "6a137f6e",
   "metadata": {},
   "source": [
    "## Module 2: Variables, Data Types, and Comments\n",
    "In this module, you'll learn about the fundamental building blocks of Python programming. You can think of variables as labeled containers where you store information, data types as different kinds of information, and comments as notes to yourself and others about what your code does."
   ]
  },
  {
   "cell_type": "markdown",
   "id": "6d50a7c5",
   "metadata": {},
   "source": [
    "## Learning Objectives\n",
    "\n",
    "- Create and use variables to store different types of data\n",
    "- Understand Python's basic data types (strings, integers, floats, booleans)\n",
    "- Write clear and helpful comments in your code\n",
    "- Get user input and convert between data types\n",
    "- Use f-strings for dynamic text formatting\n",
    "- Apply these concepts to solve real-world problems"
   ]
  },
  {
   "cell_type": "markdown",
   "id": "8b676bc5",
   "metadata": {},
   "source": [
    "## Section 1: What are Variables?\n",
    "\n",
    "### Basic Variable Assignment\n"
   ]
  },
  {
   "cell_type": "code",
   "execution_count": 3,
   "id": "526c7031",
   "metadata": {},
   "outputs": [],
   "source": [
    "# Creating variables \n",
    "name = \"Henry\" # string\n",
    "age = 26 # integer\n",
    "is_student = True # boolean\n",
    "height = 1.75 # float"
   ]
  },
  {
   "cell_type": "code",
   "execution_count": 4,
   "id": "37bea7ca",
   "metadata": {},
   "outputs": [
    {
     "name": "stdout",
     "output_type": "stream",
     "text": [
      "Hello, Henry!\n",
      "You are 26 years old.\n",
      "Height: 1.75 meters\n",
      "Student status: True\n"
     ]
    }
   ],
   "source": [
    "# Using variables in a print statements\n",
    "print(f\"Hello, {name}!\")\n",
    "print(f\"You are {age} years old.\")\n",
    "print(f\"Height: {height} meters\")\n",
    "print(f\"Student status: {is_student}\")"
   ]
  },
  {
   "cell_type": "markdown",
   "id": "43fb6915",
   "metadata": {},
   "source": [
    "## Section 2: Understanding Data Types\n",
    "\n",
    "### 1. Strings (Text)"
   ]
  },
  {
   "cell_type": "code",
   "execution_count": null,
   "id": "ccb2a01c",
   "metadata": {},
   "outputs": [],
   "source": [
    "first_name = \"Alice\"\n",
    "last_name = \"Johnson\"\n",
    "full_name = first_name + \" \" + last_name\n",
    "print(f\"Full name: {full_name}\")\n",
    "\n",
    "bio = \"\"\"\n",
    "This is a multi-line\n",
    "string that can span\n",
    "multiple lines.\n",
    "\"\"\"\n",
    "print(bio)"
   ]
  },
  {
   "cell_type": "markdown",
   "id": "3cf38095",
   "metadata": {},
   "source": [
    "### 2. Numbers (Integers and Floats)"
   ]
  },
  {
   "cell_type": "code",
   "execution_count": 5,
   "id": "952d69fd",
   "metadata": {},
   "outputs": [
    {
     "name": "stdout",
     "output_type": "stream",
     "text": [
      "Sum: 2049, Product: 119.88\n"
     ]
    }
   ],
   "source": [
    "age = 25\n",
    "year = 2024\n",
    "temperature = -5\n",
    "\n",
    "height = 1.75\n",
    "weight = 68.5\n",
    "pi = 3.14159\n",
    "\n",
    "sum_result = age + year\n",
    "product = height * weight\n",
    "print(f\"Sum: {sum_result}, Product: {product:.2f}\")\n"
   ]
  },
  {
   "cell_type": "markdown",
   "id": "1ca5e4c4",
   "metadata": {},
   "source": [
    "### 3. Booleans (True/False)"
   ]
  },
  {
   "cell_type": "code",
   "execution_count": 7,
   "id": "ccba478b",
   "metadata": {},
   "outputs": [
    {
     "name": "stdout",
     "output_type": "stream",
     "text": [
      "Can drive: True\n"
     ]
    }
   ],
   "source": [
    "is_student = True\n",
    "is_working = False\n",
    "has_car = True\n",
    "\n",
    "can_drive = has_car and (age >= 18)\n",
    "print(f\"Can drive: {can_drive}\")"
   ]
  },
  {
   "cell_type": "markdown",
   "id": "a3a7ed13",
   "metadata": {},
   "source": [
    "### 4. Checking Data Types"
   ]
  },
  {
   "cell_type": "code",
   "execution_count": 8,
   "id": "6ff130bc",
   "metadata": {},
   "outputs": [
    {
     "name": "stdout",
     "output_type": "stream",
     "text": [
      "Type of 'name': <class 'str'>\n",
      "Type of 'age': <class 'int'>\n",
      "Type of 'height': <class 'float'>\n",
      "Type of 'is_student': <class 'bool'>\n"
     ]
    }
   ],
   "source": [
    "print(f\"Type of 'name': {type(name)}\")\n",
    "print(f\"Type of 'age': {type(age)}\")\n",
    "print(f\"Type of 'height': {type(height)}\")\n",
    "print(f\"Type of 'is_student': {type(is_student)}\")"
   ]
  },
  {
   "cell_type": "markdown",
   "id": "4746a7cf",
   "metadata": {},
   "source": [
    "## Section 3: Comments"
   ]
  },
  {
   "cell_type": "code",
   "execution_count": 10,
   "id": "299100a9",
   "metadata": {},
   "outputs": [
    {
     "name": "stdout",
     "output_type": "stream",
     "text": [
      "You saved $1400 this month.\n"
     ]
    },
    {
     "data": {
      "text/plain": [
       "'\\nThis is a multi-line comment\\nit is useful for longer explanations\\nor if you are documenting functions\\n'"
      ]
     },
     "execution_count": 10,
     "metadata": {},
     "output_type": "execute_result"
    }
   ],
   "source": [
    "# This is a single-line comment\n",
    "salary = 3000\n",
    "rent = 1200\n",
    "groceries = 400\n",
    "savings = salary - (rent + groceries)\n",
    "print(f\"You saved ${savings} this month.\")\n",
    "\n",
    "\"\"\"\n",
    "This is a multi-line comment\n",
    "it is useful for longer explanations\n",
    "or if you are documenting functions\n",
    "\"\"\""
   ]
  },
  {
   "cell_type": "markdown",
   "id": "8cc79c09",
   "metadata": {},
   "source": [
    "## Section 4: Getting User Input"
   ]
  },
  {
   "cell_type": "code",
   "execution_count": null,
   "id": "4a9608e8",
   "metadata": {},
   "outputs": [],
   "source": [
    "name = input(\"What's your name? \")\n",
    "age = input(\"How old are you? \") \n",
    "age_int = int(age) # User input always returns a string, so we need to convert it to an integer\n",
    "height = float(input(\"What's your height in meters? \"))\n",
    "bmi_weight = float(input(\"What's your weight in kg? \"))\n",
    "bmi = bmi_weight / (height ** 2)"
   ]
  },
  {
   "cell_type": "code",
   "execution_count": 13,
   "id": "3428911b",
   "metadata": {},
   "outputs": [
    {
     "name": "stdout",
     "output_type": "stream",
     "text": [
      "Hello, Hope!\n",
      "You were born around 2009\n",
      "Your BMI is 97.22\n"
     ]
    }
   ],
   "source": [
    "print(f\"Hello, {name}!\")\n",
    "print(f\"You were born around {2024 - age_int}\")\n",
    "print(f\"Your BMI is {bmi:.2f}\")"
   ]
  },
  {
   "cell_type": "markdown",
   "id": "f472788a",
   "metadata": {},
   "source": [
    "## Section 5: String Formatting with f-strings"
   ]
  },
  {
   "cell_type": "code",
   "execution_count": 14,
   "id": "1774f7ab",
   "metadata": {},
   "outputs": [
    {
     "name": "stdout",
     "output_type": "stream",
     "text": [
      "Hello, Sarah!\n",
      "Sarah is 28 years old and works as a Data Scientist\n"
     ]
    }
   ],
   "source": [
    "name = \"Sarah\"\n",
    "age = 28\n",
    "profession = \"Data Scientist\"\n",
    "\n",
    "print(f\"Hello, {name}!\")\n",
    "print(f\"{name} is {age} years old and works as a {profession}\")"
   ]
  },
  {
   "cell_type": "code",
   "execution_count": 15,
   "id": "3a721dca",
   "metadata": {},
   "outputs": [
    {
     "name": "stdout",
     "output_type": "stream",
     "text": [
      "The price is $19.99\n"
     ]
    }
   ],
   "source": [
    "\n",
    "price = 19.99\n",
    "print(f\"The price is ${price:.2f}\")"
   ]
  },
  {
   "cell_type": "code",
   "execution_count": 16,
   "id": "ab2239c8",
   "metadata": {},
   "outputs": [
    {
     "name": "stdout",
     "output_type": "stream",
     "text": [
      "10 + 5 = 15\n",
      "10 squared is 100\n"
     ]
    }
   ],
   "source": [
    "x = 10\n",
    "y = 5\n",
    "print(f\"{x} + {y} = {x + y}\")\n",
    "print(f\"{x} squared is {x**2}\")"
   ]
  },
  {
   "cell_type": "markdown",
   "id": "3fa8087c",
   "metadata": {},
   "source": [
    "## Practice Exercises\n",
    "\n",
    "### Exercise 1: Personal Information Tracker\n",
    "```python\n",
    "# Ask for name, age, city, and favorite hobby\n",
    "# Display a summary using f-strings\n",
    "# Add comments explaining each step\n",
    "```\n",
    "\n",
    "### Exercise 2: Simple Calculator\n",
    "```python\n",
    "# Ask for two numbers\n",
    "# Perform operations and display results using float()\n",
    "```\n",
    "\n",
    "### Exercise 3: Temperature Converter\n",
    "```python\n",
    "# Formula: F = (C * 9/5) + 32\n",
    "# Ask user for Celsius and convert\n",
    "```"
   ]
  },
  {
   "cell_type": "markdown",
   "id": "ae4ce7fd",
   "metadata": {},
   "source": [
    "## Section 6: Common Pitfalls and Best Practices\n",
    "\n",
    "### 1. Variable Naming"
   ]
  },
  {
   "cell_type": "code",
   "execution_count": 17,
   "id": "ff518fdc",
   "metadata": {},
   "outputs": [],
   "source": [
    "user_name = \"John\"\n",
    "total_score = 100\n",
    "is_active = True"
   ]
  },
  {
   "cell_type": "markdown",
   "id": "0586057a",
   "metadata": {},
   "source": [
    "\n",
    "### 2. Data Type Awareness\n"
   ]
  },
  {
   "cell_type": "code",
   "execution_count": 18,
   "id": "05227a75",
   "metadata": {},
   "outputs": [],
   "source": [
    "age_string = \"25\"\n",
    "age_number = int(age_string)"
   ]
  },
  {
   "cell_type": "markdown",
   "id": "1caedb2a",
   "metadata": {},
   "source": [
    "### 3. String vs Number Operations\n"
   ]
  },
  {
   "cell_type": "code",
   "execution_count": 19,
   "id": "cd4173a7",
   "metadata": {},
   "outputs": [],
   "source": [
    "x = 5 + 3\n",
    "y = \"5\" + \"3\"\n",
    "z = \"5\" + str(3)"
   ]
  },
  {
   "cell_type": "code",
   "execution_count": 20,
   "id": "1e773be9",
   "metadata": {},
   "outputs": [
    {
     "name": "stdout",
     "output_type": "stream",
     "text": [
      "8\n",
      "53\n",
      "53\n"
     ]
    }
   ],
   "source": [
    "print(x)\n",
    "print(y)\n",
    "print(z)"
   ]
  },
  {
   "cell_type": "code",
   "execution_count": 23,
   "id": "d053339f",
   "metadata": {},
   "outputs": [
    {
     "data": {
      "text/plain": [
       "'5353'"
      ]
     },
     "execution_count": 23,
     "metadata": {},
     "output_type": "execute_result"
    }
   ],
   "source": [
    "y + z"
   ]
  },
  {
   "cell_type": "markdown",
   "id": "ad38e0dd",
   "metadata": {},
   "source": [
    "## Module Summary\n",
    "\n",
    "- How to create and use variables\n",
    "- Python's basic data types\n",
    "- Writing helpful comments\n",
    "- Getting user input and type conversion\n",
    "- Using f-strings\n",
    "- Best practices"
   ]
  },
  {
   "cell_type": "markdown",
   "id": "2b1457f4",
   "metadata": {},
   "source": [
    "## Challenge: Personal Finance Tracker\n",
    "\n",
    "Create a program that:\n",
    "1. Asks for monthly income and expenses\n",
    "2. Calculates savings and spending percentage\n",
    "3. Provides financial advice based on the results\n",
    "4. Uses proper variable names and comments\n",
    "5. Handles different types of input"
   ]
  }
 ],
 "metadata": {
  "kernelspec": {
   "display_name": "base",
   "language": "python",
   "name": "python3"
  },
  "language_info": {
   "codemirror_mode": {
    "name": "ipython",
    "version": 3
   },
   "file_extension": ".py",
   "mimetype": "text/x-python",
   "name": "python",
   "nbconvert_exporter": "python",
   "pygments_lexer": "ipython3",
   "version": "3.12.4"
  }
 },
 "nbformat": 4,
 "nbformat_minor": 5
}
