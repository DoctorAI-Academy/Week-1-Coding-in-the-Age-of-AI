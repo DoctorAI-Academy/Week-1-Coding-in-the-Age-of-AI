{
 "cells": [
  {
   "cell_type": "markdown",
   "id": "6c5f28db",
   "metadata": {},
   "source": [
    "# BMI Calculator"
   ]
  },
  {
   "cell_type": "markdown",
   "id": "6c487b91",
   "metadata": {},
   "source": [
    "This project helps you:\n",
    "- Use user input\n",
    "- Perform calculations\n",
    "- Use conditionals to interpret results\n",
    "- Write and use functions\n"
   ]
  },
  {
   "cell_type": "markdown",
   "id": "a97e71cc",
   "metadata": {},
   "source": [
    "### Step 1: Get user's name, height, and weight"
   ]
  },
  {
   "cell_type": "code",
   "execution_count": null,
   "id": "dc04df86",
   "metadata": {},
   "outputs": [],
   "source": [
    "name = input(\"What is your name? \")\n",
    "height = float(input(\"Enter your height in meters (e.g., 1.75): \"))\n",
    "weight = float(input(\"Enter your weight in kilograms (e.g., 70): \"))"
   ]
  },
  {
   "cell_type": "markdown",
   "id": "71845e9a",
   "metadata": {},
   "source": [
    "### Step 2: Write a function to calculate BMI"
   ]
  },
  {
   "cell_type": "code",
   "execution_count": null,
   "id": "c36ec61c",
   "metadata": {},
   "outputs": [],
   "source": [
    "def calculate_bmi(weight, height):\n",
    "    return weight / (height ** 2)"
   ]
  },
  {
   "cell_type": "markdown",
   "id": "110cee47",
   "metadata": {},
   "source": [
    "### Step 3: Write a function to interpret the BMI"
   ]
  },
  {
   "cell_type": "code",
   "execution_count": null,
   "id": "830b69c1",
   "metadata": {},
   "outputs": [],
   "source": [
    "def interpret_bmi(bmi):\n",
    "    if bmi < 18.5:\n",
    "        return \"Underweight\"\n",
    "    elif bmi < 25:\n",
    "        return \"Normal weight\"\n",
    "    elif bmi < 30:\n",
    "        return \"Overweight\"\n",
    "    else:\n",
    "        return \"Obese\""
   ]
  },
  {
   "cell_type": "markdown",
   "id": "50c96bda",
   "metadata": {},
   "source": [
    "### Step 4: Call the functions and display results"
   ]
  },
  {
   "cell_type": "code",
   "execution_count": null,
   "id": "7c0b84e7",
   "metadata": {},
   "outputs": [],
   "source": [
    "bmi = calculate_bmi(weight, height)\n",
    "category = interpret_bmi(bmi)\n",
    "\n",
    "print(f\"Hello {name}, your BMI is {bmi:.2f}. You are {category}.\")"
   ]
  },
  {
   "cell_type": "markdown",
   "id": "a08a580c",
   "metadata": {},
   "source": [
    "## **Project Ideas**\n",
    "\n",
    "## **Level 1: Basic Python Concepts (Modules 1.1-1.3)**\n",
    "\n",
    "### **1. Number Guessing Game**\n",
    "**Description**: A classic game where the computer randomly selects a number between 1-100, and the player tries to guess it. The program provides hints (higher/lower) and tracks the number of attempts. Perfect for practicing loops, conditions, and user input validation.\n",
    "\n",
    "### **2. Personal Information Manager**\n",
    "**Description**: A program that collects and displays personal information like name, age, hobbies, and favorite things. It can calculate age in different units (years, months, days) and create personalized messages. Great for learning string manipulation and basic calculations.\n",
    "\n",
    "## **Level 2: Data Structures & Functions (Module 1.4)**\n",
    "\n",
    "### **3. To-Do List Manager**\n",
    "**Description**: A practical application that allows users to add, remove, view, and mark tasks as complete. Tasks are stored in a list with completion status. Users can prioritize tasks and view them in different categories. Excellent for practicing list operations and function organization.\n",
    "\n",
    "### **4. Contact Book Application**\n",
    "**Description**: A digital address book that stores contact information (name, phone, email, address) in a dictionary format. Users can add, search, edit, and delete contacts. Includes search functionality to find contacts by partial name or phone number.\n",
    "\n",
    "## **Level 3: Packages & External Libraries (Module 1.5)**\n",
    "\n",
    "### **5. Weather Information Display**\n",
    "**Description**: A program that fetches real-time weather data for any city using a weather API. Displays current temperature, humidity, wind speed, and weather conditions in a user-friendly format. Great introduction to working with external APIs and JSON data.\n",
    "\n",
    "### **6. Simple Data Visualizer**\n",
    "**Description**: A tool that reads CSV files and creates basic charts (bar graphs, line charts, pie charts) using pandas and matplotlib. Users can select different data columns to visualize and customize chart appearance. Perfect for learning data analysis basics.\n",
    "\n",
    "## **Level 4: File Operations & Error Handling (Module 1.6)**\n",
    "\n",
    "### **7. Personal Budget Tracker**\n",
    "**Description**: A comprehensive financial management tool that tracks income, expenses, and savings over time. Data is stored in CSV files with categories, dates, and amounts. Generates monthly reports and calculates spending patterns. Excellent for practicing file I/O and data organization.\n",
    "\n",
    "### **8. Student Grade Manager**\n",
    "**Description**: An educational tool that manages student grades, calculates averages, and generates performance reports. Stores student data in files with subjects, grades, and attendance. Can identify top performers and generate class statistics. Great for learning data management and analysis.\n",
    "\n",
    "## **Level 5: Integration Projects (Combining All Skills)**\n",
    "\n",
    "### **9. Personal Study Assistant**\n",
    "**Description**: A comprehensive study tool that combines note-taking, quiz generation, and progress tracking. Features include a timer for study sessions, flashcard creation, note organization by subject, and performance analytics. Integrates all Python concepts into one practical application.\n",
    "\n",
    "### **10. Simple E-commerce System**\n",
    "**Description**: A basic online store simulation with product catalog, shopping cart functionality, and order management. Users can browse products, add items to cart, calculate totals with tax, and manage inventory. Demonstrates real-world application development using Python fundamentals.\n"
   ]
  }
 ],
 "metadata": {
  "language_info": {
   "name": "python"
  }
 },
 "nbformat": 4,
 "nbformat_minor": 5
}
