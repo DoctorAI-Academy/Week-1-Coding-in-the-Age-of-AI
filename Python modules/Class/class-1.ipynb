{
 "cells": [
  {
   "cell_type": "code",
   "execution_count": 1,
   "id": "17b59013",
   "metadata": {},
   "outputs": [
    {
     "name": "stdout",
     "output_type": "stream",
     "text": [
      "File created successfully!\n"
     ]
    }
   ],
   "source": [
    "with open(\"my_data.txt\", \"w\") as file:\n",
    "    file.write(\"Hello, this is my first file!\\n\")\n",
    "    file.write(\"I can write multiple lines.\\n\")\n",
    "\n",
    "print(\"File created successfully!\")"
   ]
  },
  {
   "cell_type": "code",
   "execution_count": 2,
   "id": "1e058d96",
   "metadata": {},
   "outputs": [
    {
     "name": "stdout",
     "output_type": "stream",
     "text": [
      "File contents:\n",
      "Hello, this is my first file!\n",
      "I can write multiple lines.\n",
      "\n"
     ]
    }
   ],
   "source": [
    "with open(\"my_data.txt\", \"r\") as file:\n",
    "    content = file.read()\n",
    "    print(\"File contents:\")\n",
    "    print(content)"
   ]
  },
  {
   "cell_type": "code",
   "execution_count": 3,
   "id": "011347de",
   "metadata": {},
   "outputs": [
    {
     "name": "stdout",
     "output_type": "stream",
     "text": [
      "CSV file created!\n"
     ]
    }
   ],
   "source": [
    "import csv\n",
    "\n",
    "# Create a simple CSV file\n",
    "data = [\n",
    "    [\"Name\", \"Age\", \"City\"],\n",
    "    [\"Alice\", \"25\", \"New York\"],\n",
    "    [\"Bob\", \"30\", \"Los Angeles\"]\n",
    "]\n",
    "\n",
    "with open(\"people.csv\", \"w\", newline=\"\") as file:\n",
    "    writer = csv.writer(file)\n",
    "    writer.writerows(data)\n",
    "\n",
    "print(\"CSV file created!\")"
   ]
  },
  {
   "cell_type": "code",
   "execution_count": 4,
   "id": "adfc2bac",
   "metadata": {},
   "outputs": [
    {
     "name": "stdout",
     "output_type": "stream",
     "text": [
      "You can't divide by zero!\n"
     ]
    }
   ],
   "source": [
    "try:\n",
    "    number = int(input(\"Enter a number: \"))\n",
    "    result = 10 / number\n",
    "    print(f\"10 / {number} = {result}\")\n",
    "except ZeroDivisionError:\n",
    "    print(\"You can't divide by zero!\")\n",
    "except ValueError:\n",
    "    print(\"Please enter a valid number!\")"
   ]
  },
  {
   "cell_type": "code",
   "execution_count": 5,
   "id": "f3c33067",
   "metadata": {},
   "outputs": [],
   "source": [
    "class AIModel:\n",
    "    def __init__(self, name):\n",
    "        self.name = name\n",
    "        self.accuracy = 0.0\n",
    "        self.is_trained = False\n",
    "    \n",
    "    def train(self):\n",
    "        print(f\"🔄 Training {self.name}...\")\n",
    "        # Simulate training\n",
    "        import random\n",
    "        self.accuracy = random.uniform(0.7, 0.95)\n",
    "        self.is_trained = True\n",
    "        print(f\"✅ Training complete! Accuracy: {self.accuracy:.2f}\")\n",
    "    \n",
    "    def predict(self, data):\n",
    "        if not self.is_trained:\n",
    "            print(\"❌ Train the model first!\")\n",
    "            return None\n",
    "        \n",
    "        # Simulate prediction\n",
    "        import random\n",
    "        result = random.choice([0, 1])\n",
    "        print(f\"🔮 Prediction: {result}\")\n",
    "        return result\n",
    "\n"
   ]
  },
  {
   "cell_type": "code",
   "execution_count": 6,
   "id": "a3402ac8",
   "metadata": {},
   "outputs": [],
   "source": [
    "# Use the class\n",
    "model = AIModel(\"MyFirstModel\")\n"
   ]
  },
  {
   "cell_type": "code",
   "execution_count": 7,
   "id": "26ad6e01",
   "metadata": {},
   "outputs": [
    {
     "name": "stdout",
     "output_type": "stream",
     "text": [
      "🔄 Training MyFirstModel...\n",
      "✅ Training complete! Accuracy: 0.70\n",
      "🔮 Prediction: 0\n"
     ]
    },
    {
     "data": {
      "text/plain": [
       "0"
      ]
     },
     "execution_count": 7,
     "metadata": {},
     "output_type": "execute_result"
    }
   ],
   "source": [
    "model.train()\n",
    "model.predict([1, 2, 3])"
   ]
  }
 ],
 "metadata": {
  "kernelspec": {
   "display_name": "base",
   "language": "python",
   "name": "python3"
  },
  "language_info": {
   "codemirror_mode": {
    "name": "ipython",
    "version": 3
   },
   "file_extension": ".py",
   "mimetype": "text/x-python",
   "name": "python",
   "nbconvert_exporter": "python",
   "pygments_lexer": "ipython3",
   "version": "3.12.4"
  }
 },
 "nbformat": 4,
 "nbformat_minor": 5
}
