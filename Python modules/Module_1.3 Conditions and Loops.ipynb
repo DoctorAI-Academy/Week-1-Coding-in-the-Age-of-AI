{
 "cells": [
  {
   "cell_type": "markdown",
   "metadata": {},
   "source": [
    "# Module 1.3: Conditions and Loops\n",
    "\n",
    "In this module, you'll learn how to make your Python programs \"think\" and \"work\" by using conditions (if statements) and loops. You'll learn to create programs that can make decisions and repeat tasks automatically."
   ]
  },
  {
   "cell_type": "markdown",
   "metadata": {},
   "source": [
    "## Learning Objectives\n",
    "\n",
    "By the end of this module, you will be able to:\n",
    "- Use if, elif, and else statements\n",
    "- Understand comparison and logical operators\n",
    "- Create for loops to repeat actions a specific number of times\n",
    "- Use while loops for conditional repetition\n",
    "- Combine conditions and loops for complex logic\n",
    "- Build interactive programs that respond to user input\n",
    "- Apply these concepts to solve real-world problems"
   ]
  },
  {
   "cell_type": "markdown",
   "metadata": {},
   "source": [
    "## Section 1: Making Decisions with Conditions\n",
    "\n",
    "Conditions allow your program to make decisions based on certain criteria. \n",
    "\n",
    "### Basic If Statement"
   ]
  },
  {
   "cell_type": "code",
   "execution_count": 1,
   "metadata": {},
   "outputs": [
    {
     "name": "stdout",
     "output_type": "stream",
     "text": [
      "Good job! You got a B!\n"
     ]
    }
   ],
   "source": [
    "# Simple if statement\n",
    "score = 85\n",
    "\n",
    "if score >= 90:\n",
    "    print(\"Excellent! You got an A!\")\n",
    "elif score >= 80:\n",
    "    print(\"Good job! You got a B!\")\n",
    "elif score >= 70:\n",
    "    print(\"Not bad! You got a C!\")\n",
    "else:\n",
    "    print(\"Keep studying! You can do better!\")"
   ]
  },
  {
   "cell_type": "code",
   "execution_count": 2,
   "id": "928c3245",
   "metadata": {},
   "outputs": [
    {
     "name": "stdout",
     "output_type": "stream",
     "text": [
      "Nice weather for a walk!\n"
     ]
    }
   ],
   "source": [
    "# Using variables in conditions\n",
    "temperature = 25\n",
    "is_sunny = True\n",
    "\n",
    "if temperature > 30 and is_sunny:\n",
    "    print(\"It's a hot sunny day! Stay hydrated!\")\n",
    "elif temperature > 20:\n",
    "    print(\"Nice weather for a walk!\")\n",
    "else:\n",
    "    print(\"It's a bit chilly today.\")"
   ]
  },
  {
   "cell_type": "markdown",
   "metadata": {},
   "source": [
    "### Comparison Operators"
   ]
  },
  {
   "cell_type": "code",
   "execution_count": 5,
   "metadata": {},
   "outputs": [],
   "source": [
    "# Comparison operators\n",
    "age = 18\n",
    "height = 1.75\n",
    "name = \"Alice\""
   ]
  },
  {
   "cell_type": "code",
   "execution_count": 6,
   "id": "38295676",
   "metadata": {},
   "outputs": [
    {
     "name": "stdout",
     "output_type": "stream",
     "text": [
      "True\n",
      "True\n"
     ]
    }
   ],
   "source": [
    "# Equal to\n",
    "print(age == 18)  # True\n",
    "\n",
    "# Not equal to\n",
    "print(age != 20)  # True"
   ]
  },
  {
   "cell_type": "code",
   "execution_count": 7,
   "id": "85ee4d89",
   "metadata": {},
   "outputs": [
    {
     "name": "stdout",
     "output_type": "stream",
     "text": [
      "True\n",
      "True\n"
     ]
    }
   ],
   "source": [
    "# Greater than, less than\n",
    "print(age > 16)   # True\n",
    "print(age < 21)   # True"
   ]
  },
  {
   "cell_type": "code",
   "execution_count": 8,
   "id": "410f42f6",
   "metadata": {},
   "outputs": [
    {
     "name": "stdout",
     "output_type": "stream",
     "text": [
      "True\n",
      "True\n"
     ]
    }
   ],
   "source": [
    "# Greater than or equal to, less than or equal to\n",
    "print(age >= 18)  # True\n",
    "print(age <= 20)  # True"
   ]
  },
  {
   "cell_type": "code",
   "execution_count": 4,
   "id": "f5bcd5cd",
   "metadata": {},
   "outputs": [
    {
     "name": "stdout",
     "output_type": "stream",
     "text": [
      "True\n",
      "True\n"
     ]
    }
   ],
   "source": [
    "# String comparisons\n",
    "print(name == \"Alice\")  # True\n",
    "print(name != \"Bob\")    # True"
   ]
  },
  {
   "cell_type": "markdown",
   "metadata": {},
   "source": [
    "### Logical Operators"
   ]
  },
  {
   "cell_type": "code",
   "execution_count": 9,
   "metadata": {},
   "outputs": [],
   "source": [
    "# Logical operators: and, or, not\n",
    "has_ticket = True\n",
    "has_money = False\n",
    "is_weekend = True"
   ]
  },
  {
   "cell_type": "code",
   "execution_count": 10,
   "id": "0f048cf0",
   "metadata": {},
   "outputs": [
    {
     "name": "stdout",
     "output_type": "stream",
     "text": [
      "You need both ticket and money.\n"
     ]
    }
   ],
   "source": [
    "# AND - both conditions must be True\n",
    "if has_ticket and has_money:\n",
    "    print(\"You can go to the movie!\")\n",
    "else:\n",
    "    print(\"You need both ticket and money.\")"
   ]
  },
  {
   "cell_type": "code",
   "execution_count": 11,
   "id": "cc07a216",
   "metadata": {},
   "outputs": [
    {
     "name": "stdout",
     "output_type": "stream",
     "text": [
      "You have either a ticket or money.\n"
     ]
    }
   ],
   "source": [
    "# OR - at least one condition must be True\n",
    "if has_ticket or has_money:\n",
    "    print(\"You have either a ticket or money.\")\n",
    "else:\n",
    "    print(\"You have neither ticket nor money.\")"
   ]
  },
  {
   "cell_type": "code",
   "execution_count": 12,
   "id": "8f87d377",
   "metadata": {},
   "outputs": [
    {
     "name": "stdout",
     "output_type": "stream",
     "text": [
      "It's the weekend - time to relax!\n"
     ]
    }
   ],
   "source": [
    "# NOT - reverses the condition\n",
    "if not is_weekend:\n",
    "    print(\"It's a weekday - time to work!\")\n",
    "else:\n",
    "    print(\"It's the weekend - time to relax!\")"
   ]
  },
  {
   "cell_type": "markdown",
   "metadata": {},
   "source": [
    "## Section 2: For Loops - Repeating Actions\n",
    "\n",
    "For loops are perfect when you know how many times you want to repeat something.\n",
    "\n",
    "### Basic For Loop with Range"
   ]
  },
  {
   "cell_type": "code",
   "execution_count": null,
   "metadata": {},
   "outputs": [],
   "source": [
    "# Countdown from 10 to 1\n",
    "for i in range(10, 0, -1):\n",
    "    print(i)\n",
    "print(\"Time's up!\")"
   ]
  },
  {
   "cell_type": "code",
   "execution_count": null,
   "id": "aa5fdf53",
   "metadata": {},
   "outputs": [],
   "source": [
    "# Count from 1 to 5\n",
    "for number in range(1, 6):\n",
    "    print(f\"Number: {number}\")"
   ]
  },
  {
   "cell_type": "code",
   "execution_count": null,
   "id": "cee296ea",
   "metadata": {},
   "outputs": [],
   "source": [
    "# Loop with step (count by 2s)\n",
    "for even in range(0, 11, 2):\n",
    "    print(f\"Even number: {even}\")"
   ]
  },
  {
   "cell_type": "code",
   "execution_count": 18,
   "id": "cf80534f",
   "metadata": {},
   "outputs": [
    {
     "name": "stdout",
     "output_type": "stream",
     "text": [
      "I like apple!\n",
      "I like banana!\n",
      "I like orange!\n",
      "I like grape!\n"
     ]
    }
   ],
   "source": [
    "# Loop through a list\n",
    "fruits = [\"apple\", \"banana\", \"orange\", \"grape\"]\n",
    "for fruit in fruits:\n",
    "    print(f\"I like {fruit}!\")"
   ]
  },
  {
   "cell_type": "code",
   "execution_count": 19,
   "id": "e5c5839b",
   "metadata": {},
   "outputs": [
    {
     "name": "stdout",
     "output_type": "stream",
     "text": [
      "Fruit #1: apple\n",
      "Fruit #2: banana\n",
      "Fruit #3: orange\n",
      "Fruit #4: grape\n"
     ]
    }
   ],
   "source": [
    "# Loop with index\n",
    "for index, fruit in enumerate(fruits):\n",
    "    print(f\"Fruit #{index + 1}: {fruit}\")"
   ]
  },
  {
   "cell_type": "markdown",
   "metadata": {},
   "source": [
    "### Practical For Loop Examples"
   ]
  },
  {
   "cell_type": "code",
   "execution_count": 23,
   "metadata": {},
   "outputs": [
    {
     "name": "stdout",
     "output_type": "stream",
     "text": [
      "Adding 1, total so far: 1\n",
      "Adding 2, total so far: 3\n",
      "Adding 3, total so far: 6\n",
      "Adding 4, total so far: 10\n",
      "Adding 5, total so far: 15\n",
      "Final sum: 15\n"
     ]
    }
   ],
   "source": [
    "# Calculate sum of numbers\n",
    "total = 0\n",
    "for num in range(1, 6):\n",
    "    total += num\n",
    "    print(f\"Adding {num}, total so far: {total}\")\n",
    "print(f\"Final sum: {total}\")"
   ]
  },
  {
   "cell_type": "code",
   "execution_count": 24,
   "id": "f23d89f7",
   "metadata": {},
   "outputs": [
    {
     "name": "stdout",
     "output_type": "stream",
     "text": [
      "Multiplication table for 7:\n",
      "7 x 1 = 7\n",
      "7 x 2 = 14\n",
      "7 x 3 = 21\n",
      "7 x 4 = 28\n",
      "7 x 5 = 35\n",
      "7 x 6 = 42\n",
      "7 x 7 = 49\n",
      "7 x 8 = 56\n",
      "7 x 9 = 63\n",
      "7 x 10 = 70\n"
     ]
    }
   ],
   "source": [
    "# Create a multiplication table\n",
    "number = 7\n",
    "print(f\"Multiplication table for {number}:\")\n",
    "for i in range(1, 11):\n",
    "    result = number * i\n",
    "    print(f\"{number} x {i} = {result}\")"
   ]
  },
  {
   "cell_type": "code",
   "execution_count": 25,
   "id": "4e3eed2f",
   "metadata": {},
   "outputs": [
    {
     "name": "stdout",
     "output_type": "stream",
     "text": [
      "Hello, Hope!\n",
      "Hello, Hope!\n",
      "Hello, Hope!\n"
     ]
    }
   ],
   "source": [
    "# Process user input multiple times\n",
    "for attempt in range(3):\n",
    "    name = input(f\"Attempt {attempt + 1}: What's your name? \")\n",
    "    print(f\"Hello, {name}!\")"
   ]
  },
  {
   "cell_type": "markdown",
   "metadata": {},
   "source": [
    "## Section 3: While Loops\n",
    "\n",
    "While loops continue as long as a condition is True. They are a good choice when you don't know how many times you'll need to repeat."
   ]
  },
  {
   "cell_type": "markdown",
   "metadata": {},
   "source": [
    "### Basic While Loop"
   ]
  },
  {
   "cell_type": "code",
   "execution_count": 26,
   "metadata": {},
   "outputs": [
    {
     "name": "stdout",
     "output_type": "stream",
     "text": [
      "Count: 1\n",
      "Count: 2\n",
      "Count: 3\n",
      "Count: 4\n",
      "Count: 5\n"
     ]
    }
   ],
   "source": [
    "# Simple counter\n",
    "count = 1\n",
    "while count <= 5:\n",
    "    print(f\"Count: {count}\")\n",
    "    count += 1"
   ]
  },
  {
   "cell_type": "code",
   "execution_count": 28,
   "id": "88578f57",
   "metadata": {},
   "outputs": [
    {
     "name": "stdout",
     "output_type": "stream",
     "text": [
      "Access granted!\n"
     ]
    }
   ],
   "source": [
    "# Password verification\n",
    "correct_password = \"secret123\"\n",
    "tries = 3\n",
    "\n",
    "while tries > 0:\n",
    "    password = input(f\"Enter password ({tries} tries left): \")\n",
    "    if password == correct_password:\n",
    "        print(\"Access granted!\")\n",
    "        break  # Exit the loop\n",
    "    else:\n",
    "        print(\"Incorrect password. Try again.\")\n",
    "        tries -= 1\n",
    "\n",
    "if tries == 0:\n",
    "    print(\"Too many failed attempts. Access denied.\")"
   ]
  },
  {
   "cell_type": "markdown",
   "metadata": {},
   "source": [
    "### Interactive While Loop Examples"
   ]
  },
  {
   "cell_type": "code",
   "execution_count": 30,
   "metadata": {},
   "outputs": [
    {
     "name": "stdout",
     "output_type": "stream",
     "text": [
      "I'm thinking of a number between 1 and 10.\n",
      "Too low! Try again.\n",
      "Congratulations! You guessed it in 2 tries!\n"
     ]
    }
   ],
   "source": [
    "# Number guessing game\n",
    "import random\n",
    "secret_number = random.randint(1, 10)\n",
    "guesses = 0\n",
    "max_guesses = 3\n",
    "\n",
    "print(\"I'm thinking of a number between 1 and 10.\")\n",
    "\n",
    "while guesses < max_guesses:\n",
    "    guess = int(input(f\"Guess #{guesses + 1}: \"))\n",
    "    guesses += 1\n",
    "    \n",
    "    if guess == secret_number:\n",
    "        print(f\"Congratulations! You guessed it in {guesses} tries!\")\n",
    "        break\n",
    "    elif guess < secret_number:\n",
    "        print(\"Too low! Try again.\")\n",
    "    else:\n",
    "        print(\"Too high! Try again.\")\n",
    "\n",
    "if guesses >= max_guesses:\n",
    "    print(f\"Game over! The number was {secret_number}.\")"
   ]
  },
  {
   "cell_type": "code",
   "execution_count": 31,
   "id": "9b7fb97a",
   "metadata": {},
   "outputs": [
    {
     "name": "stdout",
     "output_type": "stream",
     "text": [
      "\n",
      "=== Calculator Menu ===\n",
      "1. Add two numbers\n",
      "2. Subtract two numbers\n",
      "3. Multiply two numbers\n",
      "4. Exit\n",
      "Goodbye!\n"
     ]
    }
   ],
   "source": [
    "# Menu-driven program\n",
    "while True:\n",
    "    print(\"\\n=== Calculator Menu ===\")\n",
    "    print(\"1. Add two numbers\")\n",
    "    print(\"2. Subtract two numbers\")\n",
    "    print(\"3. Multiply two numbers\")\n",
    "    print(\"4. Exit\")\n",
    "    \n",
    "    choice = input(\"Enter your choice (1-4): \")\n",
    "    \n",
    "    if choice == \"1\":\n",
    "        a = float(input(\"Enter first number: \"))\n",
    "        b = float(input(\"Enter second number: \"))\n",
    "        print(f\"Result: {a + b}\")\n",
    "    elif choice == \"2\":\n",
    "        a = float(input(\"Enter first number: \"))\n",
    "        b = float(input(\"Enter second number: \"))\n",
    "        print(f\"Result: {a - b}\")\n",
    "    elif choice == \"3\":\n",
    "        a = float(input(\"Enter first number: \"))\n",
    "        b = float(input(\"Enter second number: \"))\n",
    "        print(f\"Result: {a * b}\")\n",
    "    elif choice == \"4\":\n",
    "        print(\"Goodbye!\")\n",
    "        break\n",
    "    else:\n",
    "        print(\"Invalid choice. Please try again.\")"
   ]
  },
  {
   "cell_type": "markdown",
   "metadata": {},
   "source": [
    "\n",
    "## Section 4: Combining Conditions and Loops\n"
   ]
  },
  {
   "cell_type": "code",
   "execution_count": 32,
   "metadata": {},
   "outputs": [
    {
     "name": "stdout",
     "output_type": "stream",
     "text": [
      "Even numbers from 1 to 20:\n",
      "2 4 6 8 10 12 14 16 18 20 \n"
     ]
    }
   ],
   "source": [
    "# Find even numbers in a range\n",
    "print(\"Even numbers from 1 to 20:\")\n",
    "for num in range(1, 21):\n",
    "    if num % 2 == 0:  # Check if number is even\n",
    "        print(num, end=\" \")\n",
    "print()  # New line\n"
   ]
  },
  {
   "cell_type": "code",
   "execution_count": 33,
   "id": "df8edcb4",
   "metadata": {},
   "outputs": [
    {
     "name": "stdout",
     "output_type": "stream",
     "text": [
      "Student Grades:\n",
      "Alice: 85 (B)\n",
      "Bob: 92 (A)\n",
      "Charlie: 78 (C)\n",
      "Diana: 95 (A)\n"
     ]
    }
   ],
   "source": [
    "# Grade calculator with multiple students\n",
    "students = [\"Alice\", \"Bob\", \"Charlie\", \"Diana\"]\n",
    "scores = [85, 92, 78, 95]\n",
    "\n",
    "print(\"Student Grades:\")\n",
    "for i in range(len(students)):\n",
    "    score = scores[i]\n",
    "    if score >= 90:\n",
    "        grade = \"A\"\n",
    "    elif score >= 80:\n",
    "        grade = \"B\"\n",
    "    elif score >= 70:\n",
    "        grade = \"C\"\n",
    "    else:\n",
    "        grade = \"F\"\n",
    "    \n",
    "    print(f\"{students[i]}: {score} ({grade})\")"
   ]
  },
  {
   "cell_type": "code",
   "execution_count": 36,
   "id": "9d30d5f1",
   "metadata": {},
   "outputs": [
    {
     "name": "stdout",
     "output_type": "stream",
     "text": [
      "Please enter a valid number or 'quit'\n",
      "Goodbye!\n"
     ]
    }
   ],
   "source": [
    "# Interactive number analyzer\n",
    "while True:\n",
    "    number = input(\"Enter a number (or 'quit' to exit): \")\n",
    "    \n",
    "    if number.lower() == 'quit':\n",
    "        print(\"Goodbye!\")\n",
    "        break\n",
    "    \n",
    "    try:\n",
    "        num = int(number)\n",
    "        \n",
    "        # Analyze the number\n",
    "        if num > 0:\n",
    "            print(f\"{num} is positive\")\n",
    "        elif num < 0:\n",
    "            print(f\"{num} is negative\")\n",
    "        else:\n",
    "            print(f\"{num} is zero\")\n",
    "        \n",
    "        if num % 2 == 0:\n",
    "            print(f\"{num} is even\")\n",
    "        else:\n",
    "            print(f\"{num} is odd\")\n",
    "            \n",
    "    except ValueError:\n",
    "        print(\"Please enter a valid number or 'quit'\")"
   ]
  },
  {
   "cell_type": "markdown",
   "metadata": {},
   "source": [
    "## Practice Exercises\n",
    "\n",
    "### Exercise 1: Grade Calculator\n",
    "Create a program that:\n",
    "- Asks for a student's score (0-100)\n",
    "- Assigns a letter grade (A, B, C, D, F)\n",
    "- Provides encouraging feedback\n",
    "- Handles invalid input"
   ]
  },
  {
   "cell_type": "markdown",
   "metadata": {},
   "source": [
    "### Exercise 2: Number Guessing Game\n",
    "Create a game that:\n",
    "- Generates a random number\n",
    "- Gives the player 5 guesses\n",
    "- Provides hints (higher/lower)\n",
    "- Tracks the number of attempts"
   ]
  },
  {
   "cell_type": "markdown",
   "metadata": {},
   "source": [
    "### Exercise 3: Simple ATM Machine\n",
    "Create an ATM simulation that:\n",
    "- Starts with $1000 balance\n",
    "- Allows deposits and withdrawals\n",
    "- Prevents overdrafts\n",
    "- Shows balance after each transaction\n",
    "- Continues until user chooses to exit"
   ]
  },
  {
   "cell_type": "markdown",
   "metadata": {},
   "source": [
    "### Exercise 4: Temperature Converter with Menu\n",
    "Create a converter that:\n",
    "- Shows a menu (Celsius to Fahrenheit, Fahrenheit to Celsius)\n",
    "- Handles the conversion\n",
    "- Validates input\n",
    "- Allows multiple conversions\n",
    "- Has an exit option"
   ]
  },
  {
   "cell_type": "markdown",
   "metadata": {},
   "source": [
    "## Section 5: Common Pitfalls and Best Practices\n",
    "\n",
    "### 1. Infinite Loops"
   ]
  },
  {
   "cell_type": "code",
   "execution_count": null,
   "metadata": {},
   "outputs": [],
   "source": [
    "# Dangerous - infinite loop\n",
    "# count = 1\n",
    "# while count > 0:\n",
    "#     print(count)\n",
    "#     count += 1\n",
    "\n",
    "# ✅ Safe - has exit condition\n",
    "count = 1\n",
    "while count <= 10:\n",
    "    print(count)\n",
    "    count += 1"
   ]
  },
  {
   "cell_type": "markdown",
   "metadata": {},
   "source": [
    "### 2. Proper Indentation"
   ]
  },
  {
   "cell_type": "code",
   "execution_count": null,
   "metadata": {},
   "outputs": [],
   "source": [
    "# Wrong indentation\n",
    "# if score >= 80:\n",
    "# print(\"Good job!\")  # This will cause an error\n",
    "\n",
    "# Correct indentation\n",
    "if score >= 80:\n",
    "    print(\"Good job!\")"
   ]
  },
  {
   "cell_type": "markdown",
   "metadata": {},
   "source": [
    "### 3. Using Break and Continue"
   ]
  },
  {
   "cell_type": "code",
   "execution_count": 1,
   "metadata": {},
   "outputs": [
    {
     "name": "stdout",
     "output_type": "stream",
     "text": [
      "0\n",
      "1\n",
      "2\n",
      "3\n",
      "4\n",
      "1\n",
      "3\n",
      "5\n",
      "7\n",
      "9\n"
     ]
    }
   ],
   "source": [
    "# Break - exit the loop\n",
    "for i in range(10):\n",
    "    if i == 5:\n",
    "        break  # Exit when i equals 5\n",
    "    print(i)\n",
    "\n",
    "# Continue - skip to next iteration\n",
    "for i in range(10):\n",
    "    if i % 2 == 0:\n",
    "        continue  # Skip even numbers\n",
    "    print(i)  # Only prints odd numbers"
   ]
  },
  {
   "cell_type": "markdown",
   "metadata": {},
   "source": [
    "## Module Summary\n",
    "\n",
    "In this module, you've learned:\n",
    "- How to use if, elif, and else statements\n",
    "- Comparison and logical operators\n",
    "- Creating for loops with range and lists\n",
    "- Using while loops for conditional repetition\n",
    "- Combining conditions and loops\n",
    "- Building interactive programs\n",
    "- Best practices for loop and condition usage\n",
    "\n",
    "**Next Steps:** In Module 5, you'll learn about functions, lists, and dictionaries.\n",
    "\n",
    "\n",
    "## Challenge: Interactive Quiz Game\n",
    "\n",
    "Create a quiz game that:\n",
    "1. Has multiple-choice questions\n",
    "2. Tracks the player's score\n",
    "3. Provides feedback for each answer\n",
    "4. Shows final results\n",
    "5. Asks if the player wants to play again\n",
    "6. Uses proper error handling\n",
    "\n",
    "This will combine everything you've learned about conditions and loops!"
   ]
  }
 ],
 "metadata": {
  "kernelspec": {
   "display_name": "base",
   "language": "python",
   "name": "python3"
  },
  "language_info": {
   "codemirror_mode": {
    "name": "ipython",
    "version": 3
   },
   "file_extension": ".py",
   "mimetype": "text/x-python",
   "name": "python",
   "nbconvert_exporter": "python",
   "pygments_lexer": "ipython3",
   "version": "3.12.4"
  }
 },
 "nbformat": 4,
 "nbformat_minor": 5
}
