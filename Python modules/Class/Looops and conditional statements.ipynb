{
 "cells": [
  {
   "cell_type": "code",
   "execution_count": 2,
   "id": "bbcb60f9",
   "metadata": {},
   "outputs": [
    {
     "name": "stdout",
     "output_type": "stream",
     "text": [
      "Excellent! You got an A!\n"
     ]
    }
   ],
   "source": [
    "score = 95\n",
    "\n",
    "if score >= 90:\n",
    "    print(\"Excellent! You got an A!\")\n",
    "elif score >= 80:\n",
    "    print(\"Good job! You got a B!\")\n",
    "elif score >= 70:\n",
    "    print(\"Not bad! You got a C!\")\n",
    "else:\n",
    "    print(\"Keep studying! You can do better!\")"
   ]
  },
  {
   "cell_type": "code",
   "execution_count": 5,
   "id": "0146e1a6",
   "metadata": {},
   "outputs": [
    {
     "name": "stdout",
     "output_type": "stream",
     "text": [
      "It's a bit chilly today.\n"
     ]
    }
   ],
   "source": [
    "temperature = 15\n",
    "is_sunny = True\n",
    "\n",
    "if temperature > 30 and is_sunny:\n",
    "    print(\"It's a hot sunny day! Stay hydrated!\")\n",
    "elif temperature > 20:\n",
    "    print(\"Nice weather for a walk!\")\n",
    "else:\n",
    "    print(\"It's a bit chilly today.\")"
   ]
  },
  {
   "cell_type": "code",
   "execution_count": 6,
   "id": "9550d157",
   "metadata": {},
   "outputs": [],
   "source": [
    "age = 18\n",
    "height = 1.75\n",
    "name = \"Alice\""
   ]
  },
  {
   "cell_type": "code",
   "execution_count": 7,
   "id": "03afcfe4",
   "metadata": {},
   "outputs": [
    {
     "name": "stdout",
     "output_type": "stream",
     "text": [
      "True\n",
      "True\n"
     ]
    }
   ],
   "source": [
    "# Equal to\n",
    "print(age == 18)  # True\n",
    "\n",
    "# Not equal to\n",
    "print(age != 20)  # True"
   ]
  },
  {
   "cell_type": "code",
   "execution_count": 8,
   "id": "bcab98bb",
   "metadata": {},
   "outputs": [
    {
     "name": "stdout",
     "output_type": "stream",
     "text": [
      "True\n",
      "True\n"
     ]
    }
   ],
   "source": [
    "print(age > 16)   # True\n",
    "print(age < 21)   # True"
   ]
  },
  {
   "cell_type": "code",
   "execution_count": 9,
   "id": "3bd549ac",
   "metadata": {},
   "outputs": [
    {
     "name": "stdout",
     "output_type": "stream",
     "text": [
      "True\n",
      "True\n"
     ]
    }
   ],
   "source": [
    "print(age >= 18)  # True\n",
    "print(age <= 20)  # True"
   ]
  },
  {
   "cell_type": "code",
   "execution_count": 11,
   "id": "31cf88ba",
   "metadata": {},
   "outputs": [
    {
     "name": "stdout",
     "output_type": "stream",
     "text": [
      "True\n",
      "True\n"
     ]
    }
   ],
   "source": [
    "print(name == \"Alice\")  # True\n",
    "print(name != \"Bob\")    # True"
   ]
  },
  {
   "cell_type": "code",
   "execution_count": 16,
   "id": "9a800d77",
   "metadata": {},
   "outputs": [],
   "source": [
    "has_ticket = True\n",
    "has_money = False\n",
    "is_weekend = False"
   ]
  },
  {
   "cell_type": "code",
   "execution_count": 13,
   "id": "4b6203bf",
   "metadata": {},
   "outputs": [
    {
     "name": "stdout",
     "output_type": "stream",
     "text": [
      "You need both ticket and money.\n"
     ]
    }
   ],
   "source": [
    "if has_ticket and has_money:\n",
    "    print(\"You can go to the movie!\")\n",
    "else:\n",
    "    print(\"You need both ticket and money.\")"
   ]
  },
  {
   "cell_type": "code",
   "execution_count": 14,
   "id": "75debbc6",
   "metadata": {},
   "outputs": [
    {
     "name": "stdout",
     "output_type": "stream",
     "text": [
      "You have either a ticket or money.\n"
     ]
    }
   ],
   "source": [
    "if has_ticket or has_money:\n",
    "    print(\"You have either a ticket or money.\")\n",
    "else:\n",
    "    print(\"You have neither ticket nor money.\")"
   ]
  },
  {
   "cell_type": "code",
   "execution_count": 17,
   "id": "7f27177f",
   "metadata": {},
   "outputs": [
    {
     "name": "stdout",
     "output_type": "stream",
     "text": [
      "It's a weekday - time to work!\n"
     ]
    }
   ],
   "source": [
    "if not is_weekend:\n",
    "    print(\"It's a weekday - time to work!\")\n",
    "else:\n",
    "    print(\"It's the weekend - time to relax!\")"
   ]
  },
  {
   "cell_type": "code",
   "execution_count": 18,
   "id": "3f7349f5",
   "metadata": {},
   "outputs": [
    {
     "name": "stdout",
     "output_type": "stream",
     "text": [
      "10\n",
      "9\n",
      "8\n",
      "7\n",
      "6\n",
      "5\n",
      "4\n",
      "3\n",
      "2\n",
      "1\n",
      "Time's up!\n"
     ]
    }
   ],
   "source": [
    "for i in range(10, 0, -1):\n",
    "    print(i)\n",
    "print(\"Time's up!\")"
   ]
  },
  {
   "cell_type": "code",
   "execution_count": 19,
   "id": "d3955c99",
   "metadata": {},
   "outputs": [
    {
     "name": "stdout",
     "output_type": "stream",
     "text": [
      "Number: 1\n",
      "Number: 2\n",
      "Number: 3\n",
      "Number: 4\n",
      "Number: 5\n"
     ]
    }
   ],
   "source": [
    "for number in range(1, 6):\n",
    "    print(f\"Number: {number}\")"
   ]
  },
  {
   "cell_type": "code",
   "execution_count": 20,
   "id": "74722243",
   "metadata": {},
   "outputs": [
    {
     "name": "stdout",
     "output_type": "stream",
     "text": [
      "Even number: 0\n",
      "Even number: 2\n",
      "Even number: 4\n",
      "Even number: 6\n",
      "Even number: 8\n",
      "Even number: 10\n"
     ]
    }
   ],
   "source": [
    "for even in range(0, 11, 2):\n",
    "    print(f\"Even number: {even}\")"
   ]
  },
  {
   "cell_type": "code",
   "execution_count": 22,
   "id": "5d244915",
   "metadata": {},
   "outputs": [
    {
     "name": "stdout",
     "output_type": "stream",
     "text": [
      "I like apple!\n",
      "I like banana!\n",
      "I like orange!\n",
      "I like grape!\n"
     ]
    }
   ],
   "source": [
    "fruits = [\"apple\", \"banana\", \"orange\", \"grape\"]\n",
    "for fruit in fruits:\n",
    "    print(f\"I like {fruit}!\")"
   ]
  },
  {
   "cell_type": "code",
   "execution_count": 23,
   "id": "05115d9b",
   "metadata": {},
   "outputs": [
    {
     "name": "stdout",
     "output_type": "stream",
     "text": [
      "Fruit #1: apple\n",
      "Fruit #2: banana\n",
      "Fruit #3: orange\n",
      "Fruit #4: grape\n"
     ]
    }
   ],
   "source": [
    "for index, fruit in enumerate(fruits):\n",
    "    print(f\"Fruit #{index + 1}: {fruit}\")"
   ]
  },
  {
   "cell_type": "code",
   "execution_count": 24,
   "id": "1c7854f8",
   "metadata": {},
   "outputs": [
    {
     "name": "stdout",
     "output_type": "stream",
     "text": [
      "Adding 1, total so far: 1\n",
      "Adding 2, total so far: 3\n",
      "Adding 3, total so far: 6\n",
      "Adding 4, total so far: 10\n",
      "Adding 5, total so far: 15\n",
      "Final sum: 15\n"
     ]
    }
   ],
   "source": [
    "total = 0\n",
    "for num in range(1, 6):\n",
    "    total += num\n",
    "    print(f\"Adding {num}, total so far: {total}\")\n",
    "print(f\"Final sum: {total}\")"
   ]
  },
  {
   "cell_type": "code",
   "execution_count": 26,
   "id": "32805a40",
   "metadata": {},
   "outputs": [
    {
     "name": "stdout",
     "output_type": "stream",
     "text": [
      "Multiplication table for 7:\n",
      "7 x 1 = 7\n",
      "7 x 2 = 14\n",
      "7 x 3 = 21\n",
      "7 x 4 = 28\n",
      "7 x 5 = 35\n",
      "7 x 6 = 42\n",
      "7 x 7 = 49\n",
      "7 x 8 = 56\n",
      "7 x 9 = 63\n",
      "7 x 10 = 70\n",
      "7 x 11 = 77\n",
      "7 x 12 = 84\n",
      "7 x 13 = 91\n",
      "7 x 14 = 98\n",
      "7 x 15 = 105\n",
      "7 x 16 = 112\n",
      "7 x 17 = 119\n",
      "7 x 18 = 126\n",
      "7 x 19 = 133\n",
      "7 x 20 = 140\n"
     ]
    }
   ],
   "source": [
    "number = 7\n",
    "print(f\"Multiplication table for {number}:\")\n",
    "for i in range(1, 21):\n",
    "    result = number * i\n",
    "    print(f\"{number} x {i} = {result}\")"
   ]
  },
  {
   "cell_type": "code",
   "execution_count": 27,
   "id": "d0fac3e1",
   "metadata": {},
   "outputs": [
    {
     "name": "stdout",
     "output_type": "stream",
     "text": [
      "Hello, Hope!\n",
      "Hello, Ade!\n",
      "Hello, Goke!\n"
     ]
    }
   ],
   "source": [
    "for attempt in range(3):\n",
    "    name = input(f\"Attempt {attempt + 1}: What's your name? \")\n",
    "    print(f\"Hello, {name}!\")"
   ]
  },
  {
   "cell_type": "code",
   "execution_count": 28,
   "id": "76981bbe",
   "metadata": {},
   "outputs": [
    {
     "name": "stdout",
     "output_type": "stream",
     "text": [
      "Count: 1\n",
      "Count: 2\n",
      "Count: 3\n",
      "Count: 4\n",
      "Count: 5\n"
     ]
    }
   ],
   "source": [
    "count = 1\n",
    "while count <= 5:\n",
    "    print(f\"Count: {count}\")\n",
    "    count += 1"
   ]
  },
  {
   "cell_type": "code",
   "execution_count": 29,
   "id": "2f2ff16e",
   "metadata": {},
   "outputs": [
    {
     "name": "stdout",
     "output_type": "stream",
     "text": [
      "Incorrect password. Try again.\n",
      "Access granted!\n"
     ]
    }
   ],
   "source": [
    "correct_password = \"secret123\"\n",
    "tries = 3\n",
    "\n",
    "while tries > 0:\n",
    "    password = input(f\"Enter password ({tries} tries left): \")\n",
    "    if password == correct_password:\n",
    "        print(\"Access granted!\")\n",
    "        break  # Exit the loop\n",
    "    else:\n",
    "        print(\"Incorrect password. Try again.\")\n",
    "        tries -= 1\n",
    "\n",
    "if tries == 0:\n",
    "    print(\"Too many failed attempts. Access denied.\")"
   ]
  }
 ],
 "metadata": {
  "kernelspec": {
   "display_name": "base",
   "language": "python",
   "name": "python3"
  },
  "language_info": {
   "codemirror_mode": {
    "name": "ipython",
    "version": 3
   },
   "file_extension": ".py",
   "mimetype": "text/x-python",
   "name": "python",
   "nbconvert_exporter": "python",
   "pygments_lexer": "ipython3",
   "version": "3.12.4"
  }
 },
 "nbformat": 4,
 "nbformat_minor": 5
}
