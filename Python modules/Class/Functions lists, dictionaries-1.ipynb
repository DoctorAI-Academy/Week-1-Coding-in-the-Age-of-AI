{
 "cells": [
  {
   "cell_type": "code",
   "execution_count": 1,
   "id": "469565e6",
   "metadata": {},
   "outputs": [
    {
     "name": "stdout",
     "output_type": "stream",
     "text": [
      "Hello, World!\n"
     ]
    }
   ],
   "source": [
    "def greet():\n",
    "    print(\"Hello, World!\")\n",
    "\n",
    "# Calling the function\n",
    "greet()"
   ]
  },
  {
   "cell_type": "code",
   "execution_count": 2,
   "id": "c2fd6dcb",
   "metadata": {},
   "outputs": [],
   "source": [
    "def greet_person(name):\n",
    "    print(f\"Hello, {name}!\")"
   ]
  },
  {
   "cell_type": "code",
   "execution_count": 3,
   "id": "ace9b9c4",
   "metadata": {},
   "outputs": [
    {
     "name": "stdout",
     "output_type": "stream",
     "text": [
      "Hello, Alice!\n",
      "Hello, Bob!\n"
     ]
    }
   ],
   "source": [
    "# Calling with different arguments\n",
    "greet_person(\"Alice\")\n",
    "greet_person(\"Bob\")"
   ]
  },
  {
   "cell_type": "code",
   "execution_count": 4,
   "id": "768719fd",
   "metadata": {},
   "outputs": [],
   "source": [
    "def add_numbers(a, b):\n",
    "    result = a + b\n",
    "    return result\n",
    "\n"
   ]
  },
  {
   "cell_type": "code",
   "execution_count": 5,
   "id": "8887ec63",
   "metadata": {},
   "outputs": [
    {
     "name": "stdout",
     "output_type": "stream",
     "text": [
      "5 + 3 = 8\n"
     ]
    }
   ],
   "source": [
    "# Using the return value\n",
    "sum_result = add_numbers(5, 3)\n",
    "print(f\"5 + 3 = {sum_result}\")"
   ]
  },
  {
   "cell_type": "code",
   "execution_count": 6,
   "id": "e94c6120",
   "metadata": {},
   "outputs": [],
   "source": [
    "def greet_with_title(name, title=\"Mr.\"):\n",
    "    print(f\"Hello, {title} {name}!\")"
   ]
  },
  {
   "cell_type": "code",
   "execution_count": 7,
   "id": "1f431d98",
   "metadata": {},
   "outputs": [
    {
     "name": "stdout",
     "output_type": "stream",
     "text": [
      "Hello, Mr. Smith!\n"
     ]
    }
   ],
   "source": [
    "greet_with_title(\"Smith\") "
   ]
  },
  {
   "cell_type": "code",
   "execution_count": 8,
   "id": "75f70ede",
   "metadata": {},
   "outputs": [
    {
     "name": "stdout",
     "output_type": "stream",
     "text": [
      "Hello, Dr. Johnson!\n"
     ]
    }
   ],
   "source": [
    "greet_with_title(\"Johnson\", \"Dr.\") "
   ]
  },
  {
   "cell_type": "code",
   "execution_count": 9,
   "id": "afffa8f3",
   "metadata": {},
   "outputs": [],
   "source": [
    "def calculate_area(length, width):\n",
    "    area = length * width\n",
    "    return area"
   ]
  },
  {
   "cell_type": "code",
   "execution_count": 10,
   "id": "aead2779",
   "metadata": {},
   "outputs": [
    {
     "data": {
      "text/plain": [
       "56"
      ]
     },
     "execution_count": 10,
     "metadata": {},
     "output_type": "execute_result"
    }
   ],
   "source": [
    "calculate_area(7,8)"
   ]
  },
  {
   "cell_type": "code",
   "execution_count": 11,
   "id": "1d8a2b74",
   "metadata": {},
   "outputs": [],
   "source": [
    "global_counter = 0\n",
    "\n",
    "def increment_counter():\n",
    "    global global_counter  # Declare we want to modify global variable\n",
    "    global_counter += 1\n",
    "    print(f\"Counter: {global_counter}\")\n",
    "\n",
    "def create_local_variable():\n",
    "    local_var = \"I'm local to this function\"\n",
    "    print(local_var)"
   ]
  },
  {
   "cell_type": "code",
   "execution_count": 12,
   "id": "947b0089",
   "metadata": {},
   "outputs": [
    {
     "name": "stdout",
     "output_type": "stream",
     "text": [
      "Counter: 1\n",
      "Counter: 2\n",
      "Counter: 3\n",
      "I'm local to this function\n"
     ]
    }
   ],
   "source": [
    "increment_counter()\n",
    "increment_counter()\n",
    "increment_counter()\n",
    "create_local_variable()"
   ]
  },
  {
   "cell_type": "code",
   "execution_count": 13,
   "id": "8e7a970d",
   "metadata": {},
   "outputs": [
    {
     "name": "stdout",
     "output_type": "stream",
     "text": [
      "Counter: 4\n"
     ]
    }
   ],
   "source": [
    "increment_counter()"
   ]
  },
  {
   "cell_type": "code",
   "execution_count": 14,
   "id": "d843aff3",
   "metadata": {},
   "outputs": [
    {
     "ename": "NameError",
     "evalue": "name 'local_var' is not defined",
     "output_type": "error",
     "traceback": [
      "\u001b[0;31m---------------------------------------------------------------------------\u001b[0m",
      "\u001b[0;31mNameError\u001b[0m                                 Traceback (most recent call last)",
      "Cell \u001b[0;32mIn[14], line 1\u001b[0m\n\u001b[0;32m----> 1\u001b[0m local_var\n",
      "\u001b[0;31mNameError\u001b[0m: name 'local_var' is not defined"
     ]
    }
   ],
   "source": [
    "local_var"
   ]
  },
  {
   "cell_type": "code",
   "execution_count": 15,
   "id": "436cee5d",
   "metadata": {},
   "outputs": [],
   "source": [
    "fruits = [\"apple\", \"banana\", \"orange\", \"grape\"]\n",
    "numbers = [1, 2, 3, 4, 5]\n",
    "mixed = [\"hello\", 42, 3.14, True]"
   ]
  },
  {
   "cell_type": "code",
   "execution_count": 16,
   "id": "4e45467f",
   "metadata": {},
   "outputs": [
    {
     "name": "stdout",
     "output_type": "stream",
     "text": [
      "First fruit: apple\n",
      "Last fruit: grape\n",
      "Second fruit: banana\n"
     ]
    }
   ],
   "source": [
    "print(f\"First fruit: {fruits[0]}\")\n",
    "print(f\"Last fruit: {fruits[-1]}\")\n",
    "print(f\"Second fruit: {fruits[1]}\")"
   ]
  },
  {
   "cell_type": "code",
   "execution_count": 17,
   "id": "fa2808d2",
   "metadata": {},
   "outputs": [
    {
     "name": "stdout",
     "output_type": "stream",
     "text": [
      "First three fruits: ['apple', 'banana', 'orange']\n",
      "Last two fruits: ['orange', 'grape']\n",
      "Every other fruit: ['apple', 'orange']\n"
     ]
    }
   ],
   "source": [
    "print(f\"First three fruits: {fruits[0:3]}\")\n",
    "print(f\"Last two fruits: {fruits[-2:]}\")\n",
    "print(f\"Every other fruit: {fruits[::2]}\")"
   ]
  },
  {
   "cell_type": "code",
   "execution_count": 18,
   "id": "e1f6de85",
   "metadata": {},
   "outputs": [
    {
     "name": "stdout",
     "output_type": "stream",
     "text": [
      "Number of fruits: 4\n"
     ]
    }
   ],
   "source": [
    "print(f\"Number of fruits: {len(fruits)}\")"
   ]
  },
  {
   "cell_type": "code",
   "execution_count": 19,
   "id": "a979d497",
   "metadata": {},
   "outputs": [
    {
     "name": "stdout",
     "output_type": "stream",
     "text": [
      "After append: ['apple', 'banana', 'orange', 'grape', 'mango']\n",
      "After insert: ['apple', 'kiwi', 'banana', 'orange', 'grape', 'mango']\n"
     ]
    }
   ],
   "source": [
    "fruits.append(\"mango\")  # Add to end\n",
    "print(f\"After append: {fruits}\")\n",
    "\n",
    "fruits.insert(1, \"kiwi\")  # Insert at specific position\n",
    "print(f\"After insert: {fruits}\")"
   ]
  },
  {
   "cell_type": "code",
   "execution_count": 20,
   "id": "edb4e34e",
   "metadata": {},
   "outputs": [
    {
     "name": "stdout",
     "output_type": "stream",
     "text": [
      "After remove: ['apple', 'kiwi', 'orange', 'grape', 'mango']\n",
      "Popped: mango\n",
      "After pop: ['apple', 'kiwi', 'orange', 'grape']\n"
     ]
    }
   ],
   "source": [
    "fruits.remove(\"banana\")  # Remove by value\n",
    "print(f\"After remove: {fruits}\")\n",
    "\n",
    "popped_fruit = fruits.pop()  # Remove and return last element\n",
    "print(f\"Popped: {popped_fruit}\")\n",
    "print(f\"After pop: {fruits}\")"
   ]
  },
  {
   "cell_type": "code",
   "execution_count": 21,
   "id": "09e12844",
   "metadata": {},
   "outputs": [
    {
     "name": "stdout",
     "output_type": "stream",
     "text": [
      "After modification: ['strawberry', 'kiwi', 'orange', 'grape']\n"
     ]
    }
   ],
   "source": [
    "fruits[0] = \"strawberry\"\n",
    "print(f\"After modification: {fruits}\")"
   ]
  },
  {
   "cell_type": "code",
   "execution_count": 22,
   "id": "3cc62b3e",
   "metadata": {},
   "outputs": [
    {
     "name": "stdout",
     "output_type": "stream",
     "text": [
      "Sorted: ['grape', 'kiwi', 'orange', 'strawberry']\n",
      "Sorted numbers: [9, 6, 5, 4, 3, 2, 1, 1]\n"
     ]
    }
   ],
   "source": [
    "fruits.sort()  # Sort alphabetically\n",
    "print(f\"Sorted: {fruits}\")\n",
    "\n",
    "numbers = [3, 1, 4, 1, 5, 9, 2, 6]\n",
    "numbers.sort(reverse=True)  # Sort in descending order\n",
    "print(f\"Sorted numbers: {numbers}\")"
   ]
  },
  {
   "cell_type": "code",
   "execution_count": 23,
   "id": "e72a42b8",
   "metadata": {},
   "outputs": [
    {
     "name": "stdout",
     "output_type": "stream",
     "text": [
      "My favorite fruits:\n",
      "- grape\n",
      "- kiwi\n",
      "- orange\n",
      "- strawberry\n"
     ]
    }
   ],
   "source": [
    "print(\"My favorite fruits:\")\n",
    "for fruit in fruits:\n",
    "    print(f\"- {fruit}\")"
   ]
  },
  {
   "cell_type": "code",
   "execution_count": 24,
   "id": "515f5808",
   "metadata": {},
   "outputs": [
    {
     "name": "stdout",
     "output_type": "stream",
     "text": [
      "1. grape\n",
      "2. kiwi\n",
      "3. orange\n",
      "4. strawberry\n"
     ]
    }
   ],
   "source": [
    "for index, fruit in enumerate(fruits):\n",
    "    print(f\"{index + 1}. {fruit}\")"
   ]
  },
  {
   "cell_type": "code",
   "execution_count": 25,
   "id": "ee1432ed",
   "metadata": {},
   "outputs": [
    {
     "name": "stdout",
     "output_type": "stream",
     "text": [
      "Squares: [1, 4, 9, 16, 25]\n"
     ]
    }
   ],
   "source": [
    "squares = [x**2 for x in range(1, 6)]\n",
    "print(f\"Squares: {squares}\")"
   ]
  },
  {
   "cell_type": "code",
   "execution_count": 26,
   "id": "4b2d56c5",
   "metadata": {},
   "outputs": [
    {
     "name": "stdout",
     "output_type": "stream",
     "text": [
      "Even numbers: [2, 4, 6, 8, 10]\n"
     ]
    }
   ],
   "source": [
    "even_numbers = [x for x in range(1, 11) if x % 2 == 0]\n",
    "print(f\"Even numbers: {even_numbers}\")"
   ]
  },
  {
   "cell_type": "code",
   "execution_count": 27,
   "id": "18ef8449",
   "metadata": {},
   "outputs": [
    {
     "name": "stdout",
     "output_type": "stream",
     "text": [
      "Combined: [1, 2, 3, 4, 5, 6]\n"
     ]
    }
   ],
   "source": [
    "list1 = [1, 2, 3]\n",
    "list2 = [4, 5, 6]\n",
    "combined = list1 + list2\n",
    "print(f\"Combined: {combined}\")"
   ]
  },
  {
   "cell_type": "code",
   "execution_count": 28,
   "id": "1f7cbe8d",
   "metadata": {},
   "outputs": [
    {
     "name": "stdout",
     "output_type": "stream",
     "text": [
      "Repeated: [1, 2, 3, 1, 2, 3, 1, 2, 3]\n"
     ]
    }
   ],
   "source": [
    "repeated = list1 * 3\n",
    "print(f\"Repeated: {repeated}\")"
   ]
  },
  {
   "cell_type": "code",
   "execution_count": 29,
   "id": "4fd43a96",
   "metadata": {},
   "outputs": [],
   "source": [
    "person = {\n",
    "    \"name\": \"Alice\",\n",
    "    \"age\": 25,\n",
    "    \"city\": \"New York\",\n",
    "    \"is_student\": True\n",
    "}"
   ]
  },
  {
   "cell_type": "code",
   "execution_count": 30,
   "id": "47bc1789",
   "metadata": {},
   "outputs": [
    {
     "name": "stdout",
     "output_type": "stream",
     "text": [
      "Name: Alice\n",
      "Age: 25\n"
     ]
    }
   ],
   "source": [
    "print(f\"Name: {person['name']}\")\n",
    "print(f\"Age: {person['age']}\")"
   ]
  },
  {
   "cell_type": "code",
   "execution_count": 31,
   "id": "332ecb62",
   "metadata": {},
   "outputs": [
    {
     "name": "stdout",
     "output_type": "stream",
     "text": [
      "City: New York\n",
      "Phone: Not provided\n"
     ]
    }
   ],
   "source": [
    "print(f\"City: {person.get('city', 'Unknown')}\")\n",
    "print(f\"Phone: {person.get('phone', 'Not provided')}\")"
   ]
  },
  {
   "cell_type": "code",
   "execution_count": 32,
   "id": "216a87b0",
   "metadata": {},
   "outputs": [
    {
     "name": "stdout",
     "output_type": "stream",
     "text": [
      "Age is: 25\n"
     ]
    }
   ],
   "source": [
    "if \"age\" in person:\n",
    "    print(f\"Age is: {person['age']}\")"
   ]
  },
  {
   "cell_type": "code",
   "execution_count": 33,
   "id": "75635cca",
   "metadata": {},
   "outputs": [
    {
     "name": "stdout",
     "output_type": "stream",
     "text": [
      "Keys: ['name', 'age', 'city', 'is_student']\n",
      "Values: ['Alice', 25, 'New York', True]\n",
      "Items: [('name', 'Alice'), ('age', 25), ('city', 'New York'), ('is_student', True)]\n"
     ]
    }
   ],
   "source": [
    "print(f\"Keys: {list(person.keys())}\")\n",
    "print(f\"Values: {list(person.values())}\")\n",
    "print(f\"Items: {list(person.items())}\")"
   ]
  },
  {
   "cell_type": "code",
   "execution_count": 34,
   "id": "4f0a38af",
   "metadata": {},
   "outputs": [
    {
     "name": "stdout",
     "output_type": "stream",
     "text": [
      "Updated person: {'name': 'Alice', 'age': 25, 'city': 'New York', 'is_student': True, 'email': 'alice@email.com', 'phone': '555-1234'}\n"
     ]
    }
   ],
   "source": [
    "person[\"email\"] = \"alice@email.com\"\n",
    "person[\"phone\"] = \"555-1234\"\n",
    "print(f\"Updated person: {person}\")"
   ]
  },
  {
   "cell_type": "code",
   "execution_count": 35,
   "id": "9ce2e420",
   "metadata": {},
   "outputs": [
    {
     "name": "stdout",
     "output_type": "stream",
     "text": [
      "Updated age: {'name': 'Alice', 'age': 26, 'city': 'New York', 'is_student': True, 'email': 'alice@email.com', 'phone': '555-1234'}\n"
     ]
    }
   ],
   "source": [
    "person[\"age\"] = 26\n",
    "print(f\"Updated age: {person}\")"
   ]
  },
  {
   "cell_type": "code",
   "execution_count": 36,
   "id": "be1e5f7d",
   "metadata": {},
   "outputs": [
    {
     "name": "stdout",
     "output_type": "stream",
     "text": [
      "Removed: 555-1234\n",
      "After pop: {'name': 'Alice', 'age': 26, 'city': 'New York', 'is_student': True, 'email': 'alice@email.com'}\n"
     ]
    }
   ],
   "source": [
    "removed_value = person.pop(\"phone\")\n",
    "print(f\"Removed: {removed_value}\")\n",
    "print(f\"After pop: {person}\")"
   ]
  },
  {
   "cell_type": "code",
   "execution_count": 37,
   "id": "61361e23",
   "metadata": {},
   "outputs": [],
   "source": [
    "student = {\n",
    "    \"name\": \"Bob\",\n",
    "    \"grades\": {\n",
    "        \"math\": 85,\n",
    "        \"science\": 92,\n",
    "        \"english\": 78\n",
    "    },\n",
    "    \"contact\": {\n",
    "        \"email\": \"bob@school.com\",\n",
    "        \"phone\": \"555-5678\"\n",
    "    }\n",
    "}"
   ]
  },
  {
   "cell_type": "code",
   "execution_count": 38,
   "id": "7406e420",
   "metadata": {},
   "outputs": [
    {
     "name": "stdout",
     "output_type": "stream",
     "text": [
      "Math grade: 85\n",
      "Email: bob@school.com\n"
     ]
    }
   ],
   "source": [
    "print(f\"Math grade: {student['grades']['math']}\")\n",
    "print(f\"Email: {student['contact']['email']}\")"
   ]
  },
  {
   "cell_type": "code",
   "execution_count": 39,
   "id": "367c4c8b",
   "metadata": {},
   "outputs": [
    {
     "name": "stdout",
     "output_type": "stream",
     "text": [
      "Person information:\n",
      "name: Alice\n",
      "age: 26\n",
      "city: New York\n",
      "is_student: True\n",
      "email: alice@email.com\n"
     ]
    }
   ],
   "source": [
    "print(\"Person information:\")\n",
    "for key, value in person.items():\n",
    "    print(f\"{key}: {value}\")"
   ]
  },
  {
   "cell_type": "code",
   "execution_count": 40,
   "id": "a44dcda3",
   "metadata": {},
   "outputs": [
    {
     "name": "stdout",
     "output_type": "stream",
     "text": [
      "Keys:\n",
      "- name\n",
      "- age\n",
      "- city\n",
      "- is_student\n",
      "- email\n"
     ]
    }
   ],
   "source": [
    "print(\"Keys:\")\n",
    "for key in person.keys():\n",
    "    print(f\"- {key}\")"
   ]
  },
  {
   "cell_type": "code",
   "execution_count": 41,
   "id": "762356c6",
   "metadata": {},
   "outputs": [
    {
     "name": "stdout",
     "output_type": "stream",
     "text": [
      "Values:\n",
      "- Alice\n",
      "- 26\n",
      "- New York\n",
      "- True\n",
      "- alice@email.com\n"
     ]
    }
   ],
   "source": [
    "print(\"Values:\")\n",
    "for value in person.values():\n",
    "    print(f\"- {value}\")"
   ]
  },
  {
   "cell_type": "code",
   "execution_count": 42,
   "id": "20232d55",
   "metadata": {},
   "outputs": [
    {
     "name": "stdout",
     "output_type": "stream",
     "text": [
      "Squares dictionary: {1: 1, 2: 4, 3: 9, 4: 16, 5: 25}\n"
     ]
    }
   ],
   "source": [
    "squares_dict = {x: x**2 for x in range(1, 6)}\n",
    "print(f\"Squares dictionary: {squares_dict}\")"
   ]
  },
  {
   "cell_type": "code",
   "execution_count": 43,
   "id": "e637e147",
   "metadata": {},
   "outputs": [
    {
     "name": "stdout",
     "output_type": "stream",
     "text": [
      "High grades: {'math': 85, 'science': 92}\n"
     ]
    }
   ],
   "source": [
    "high_grades = {subject: grade for subject, grade in student['grades'].items() if grade >= 85}\n",
    "print(f\"High grades: {high_grades}\")"
   ]
  },
  {
   "cell_type": "code",
   "execution_count": 44,
   "id": "c7f2a343",
   "metadata": {},
   "outputs": [],
   "source": [
    "def calculate_average(numbers):\n",
    "    if len(numbers) == 0:\n",
    "        return 0\n",
    "    return sum(numbers) / len(numbers)"
   ]
  },
  {
   "cell_type": "code",
   "execution_count": 45,
   "id": "29eb2d7e",
   "metadata": {},
   "outputs": [
    {
     "data": {
      "text/plain": [
       "36.666666666666664"
      ]
     },
     "execution_count": 45,
     "metadata": {},
     "output_type": "execute_result"
    }
   ],
   "source": [
    "calculate_average([50,40,20])"
   ]
  },
  {
   "cell_type": "code",
   "execution_count": 46,
   "id": "06d461ac",
   "metadata": {},
   "outputs": [],
   "source": [
    "def find_highest_grade(student_grades):\n",
    "    if not student_grades:\n",
    "        return None, None\n",
    "    highest_subject = max(student_grades, key=student_grades.get)\n",
    "    highest_grade = student_grades[highest_subject]\n",
    "    return highest_subject, highest_grade"
   ]
  },
  {
   "cell_type": "code",
   "execution_count": 50,
   "id": "047eec7a",
   "metadata": {},
   "outputs": [],
   "source": [
    "def generate_fibonacci(n):\n",
    "    if n <= 0:\n",
    "        return []\n",
    "    elif n == 1:\n",
    "        return [0]\n",
    "    \n",
    "    fib = [0, 1]\n",
    "    for i in range(2, n):\n",
    "        fib.append(fib[i-1] + fib[i-2])\n",
    "    return fib"
   ]
  },
  {
   "cell_type": "code",
   "execution_count": 47,
   "id": "aa9376b7",
   "metadata": {},
   "outputs": [],
   "source": [
    "def create_student_profile(name, age, grades):\n",
    "    return {\n",
    "        \"name\": name,\n",
    "        \"age\": age,\n",
    "        \"grades\": grades,\n",
    "        \"average\": calculate_average(list(grades.values())),\n",
    "        \"highest_subject\": find_highest_grade(grades)[0]\n",
    "    }"
   ]
  },
  {
   "cell_type": "code",
   "execution_count": 48,
   "id": "2c2dc30e",
   "metadata": {},
   "outputs": [
    {
     "name": "stdout",
     "output_type": "stream",
     "text": [
      "Highest grade: 92 in science\n"
     ]
    }
   ],
   "source": [
    "test_grades = {\"math\": 85, \"science\": 92, \"english\": 78}\n",
    "subject, grade = find_highest_grade(test_grades)\n",
    "print(f\"Highest grade: {grade} in {subject}\")"
   ]
  },
  {
   "cell_type": "code",
   "execution_count": 51,
   "id": "7a0c7572",
   "metadata": {},
   "outputs": [
    {
     "name": "stdout",
     "output_type": "stream",
     "text": [
      "Fibonacci sequence: [0, 1, 1, 2, 3, 5, 8, 13, 21, 34]\n"
     ]
    }
   ],
   "source": [
    "fib_sequence = generate_fibonacci(10)\n",
    "print(f\"Fibonacci sequence: {fib_sequence}\")"
   ]
  },
  {
   "cell_type": "code",
   "execution_count": 52,
   "id": "e54d6f0f",
   "metadata": {},
   "outputs": [
    {
     "name": "stdout",
     "output_type": "stream",
     "text": [
      "Student profile: {'name': 'Charlie', 'age': 18, 'grades': {'math': 85, 'science': 92, 'english': 78}, 'average': 85.0, 'highest_subject': 'science'}\n"
     ]
    }
   ],
   "source": [
    "student_profile = create_student_profile(\"Charlie\", 18, test_grades)\n",
    "print(f\"Student profile: {student_profile}\")"
   ]
  }
 ],
 "metadata": {
  "kernelspec": {
   "display_name": "base",
   "language": "python",
   "name": "python3"
  },
  "language_info": {
   "codemirror_mode": {
    "name": "ipython",
    "version": 3
   },
   "file_extension": ".py",
   "mimetype": "text/x-python",
   "name": "python",
   "nbconvert_exporter": "python",
   "pygments_lexer": "ipython3",
   "version": "3.12.4"
  }
 },
 "nbformat": 4,
 "nbformat_minor": 5
}
