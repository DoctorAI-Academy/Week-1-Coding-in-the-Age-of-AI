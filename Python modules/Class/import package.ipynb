{
 "cells": [
  {
   "cell_type": "code",
   "execution_count": 2,
   "id": "091bb76c",
   "metadata": {},
   "outputs": [
    {
     "name": "stdout",
     "output_type": "stream",
     "text": [
      "3.141592653589793\n",
      "4.0\n"
     ]
    }
   ],
   "source": [
    "import math\n",
    "print(math.pi)\n",
    "print(math.sqrt(16))"
   ]
  },
  {
   "cell_type": "code",
   "execution_count": 3,
   "id": "cffc767b",
   "metadata": {},
   "outputs": [
    {
     "name": "stdout",
     "output_type": "stream",
     "text": [
      "Pi: 3.141592653589793\n",
      "Square root of 25: 5.0\n"
     ]
    }
   ],
   "source": [
    "from math import sqrt, pi\n",
    "print(f\"Pi: {pi}\")\n",
    "print(f\"Square root of 25: {sqrt(25)}\")"
   ]
  },
  {
   "cell_type": "code",
   "execution_count": 4,
   "id": "3d50794a",
   "metadata": {},
   "outputs": [
    {
     "name": "stdout",
     "output_type": "stream",
     "text": [
      "1.0\n"
     ]
    }
   ],
   "source": [
    "import math as m\n",
    "print(m.cos(0))"
   ]
  },
  {
   "cell_type": "code",
   "execution_count": 5,
   "id": "b9fb8f8e",
   "metadata": {},
   "outputs": [
    {
     "name": "stdout",
     "output_type": "stream",
     "text": [
      "Random numbers: [100, 45, 98, 68, 5]\n"
     ]
    }
   ],
   "source": [
    "import random\n",
    "\n",
    "# Generate random numbers for testing\n",
    "random_numbers = [random.randint(1, 100) for _ in range(5)]\n",
    "print(f\"Random numbers: {random_numbers}\")"
   ]
  },
  {
   "cell_type": "code",
   "execution_count": 6,
   "id": "e6cf2189",
   "metadata": {},
   "outputs": [
    {
     "name": "stdout",
     "output_type": "stream",
     "text": [
      "Current time: 2025-08-22 01:08:32.370911\n"
     ]
    }
   ],
   "source": [
    "from datetime import datetime\n",
    "current_time = datetime.now()\n",
    "print(f\"Current time: {current_time}\")"
   ]
  },
  {
   "cell_type": "code",
   "execution_count": 7,
   "id": "b9376b18",
   "metadata": {},
   "outputs": [],
   "source": [
    "import numpy as np"
   ]
  },
  {
   "cell_type": "code",
   "execution_count": 8,
   "id": "276a6142",
   "metadata": {},
   "outputs": [
    {
     "name": "stdout",
     "output_type": "stream",
     "text": [
      "Array: [1 2 3 4 5]\n",
      "Type: <class 'numpy.ndarray'>\n"
     ]
    }
   ],
   "source": [
    "data = np.array([1, 2, 3, 4, 5])\n",
    "print(f\"Array: {data}\")\n",
    "print(f\"Type: {type(data)}\")"
   ]
  },
  {
   "cell_type": "code",
   "execution_count": 9,
   "id": "a13bad36",
   "metadata": {},
   "outputs": [
    {
     "name": "stdout",
     "output_type": "stream",
     "text": [
      "Sum: 15\n",
      "Mean: 3.0\n",
      "Standard deviation: 1.4142135623730951\n"
     ]
    }
   ],
   "source": [
    "print(f\"Sum: {np.sum(data)}\")\n",
    "print(f\"Mean: {np.mean(data)}\")\n",
    "print(f\"Standard deviation: {np.std(data)}\")"
   ]
  },
  {
   "cell_type": "code",
   "execution_count": 10,
   "id": "f0bd1c4c",
   "metadata": {},
   "outputs": [
    {
     "name": "stdout",
     "output_type": "stream",
     "text": [
      "Matrix:\n",
      "[[1 2 3]\n",
      " [4 5 6]\n",
      " [7 8 9]]\n",
      "Shape: (3, 3)\n"
     ]
    }
   ],
   "source": [
    "matrix = np.array([[1, 2, 3], [4, 5, 6], [7, 8, 9]])\n",
    "print(f\"Matrix:\\n{matrix}\")\n",
    "print(f\"Shape: {matrix.shape}\")"
   ]
  },
  {
   "cell_type": "code",
   "execution_count": 11,
   "id": "6df7270e",
   "metadata": {},
   "outputs": [
    {
     "name": "stdout",
     "output_type": "stream",
     "text": [
      "Dataset:\n",
      "      Name  Age         City  Score\n",
      "0    Alice   25     New York     85\n",
      "1      Bob   30  Los Angeles     92\n",
      "2  Charlie   35      Chicago     78\n",
      "3    Diana   28       Boston     95\n"
     ]
    }
   ],
   "source": [
    "import pandas as pd\n",
    "\n",
    "# Create a simple dataset\n",
    "data = {\n",
    "    'Name': ['Alice', 'Bob', 'Charlie', 'Diana'],\n",
    "    'Age': [25, 30, 35, 28],\n",
    "    'City': ['New York', 'Los Angeles', 'Chicago', 'Boston'],\n",
    "    'Score': [85, 92, 78, 95]\n",
    "}\n",
    "\n",
    "# Create a DataFrame (like a spreadsheet)\n",
    "df = pd.DataFrame(data)\n",
    "print(\"Dataset:\")\n",
    "print(df)"
   ]
  },
  {
   "cell_type": "code",
   "execution_count": 12,
   "id": "c94266c2",
   "metadata": {},
   "outputs": [
    {
     "name": "stdout",
     "output_type": "stream",
     "text": [
      "\n",
      "Average age: 29.5\n",
      "Highest score: 95\n",
      "People in New York: 1\n"
     ]
    }
   ],
   "source": [
    "print(f\"\\nAverage age: {df['Age'].mean():.1f}\")\n",
    "print(f\"Highest score: {df['Score'].max()}\")\n",
    "print(f\"People in New York: {len(df[df['City'] == 'New York'])}\")"
   ]
  },
  {
   "cell_type": "code",
   "execution_count": 13,
   "id": "bf8a8832",
   "metadata": {},
   "outputs": [],
   "source": [
    "import matplotlib.pyplot as plt"
   ]
  },
  {
   "cell_type": "code",
   "execution_count": 14,
   "id": "fdb29fd5",
   "metadata": {},
   "outputs": [
    {
     "data": {
      "image/png": "[encoded data removed]",
      "text/plain": [
       "<Figure size 800x600 with 1 Axes>"
      ]
     },
     "metadata": {},
     "output_type": "display_data"
    }
   ],
   "source": [
    "x = [1, 2, 3, 4, 5]\n",
    "y = [2, 4, 6, 8, 10]\n",
    "\n",
    "# Create a simple line plot\n",
    "plt.figure(figsize=(8, 6))\n",
    "plt.plot(x, y, 'bo-', linewidth=2, markersize=8)\n",
    "plt.title('Simple Line Chart')\n",
    "plt.xlabel('X Values')\n",
    "plt.ylabel('Y Values')\n",
    "plt.grid(True, alpha=0.3)\n",
    "plt.show()"
   ]
  },
  {
   "cell_type": "code",
   "execution_count": 15,
   "id": "f22dfd6b",
   "metadata": {},
   "outputs": [
    {
     "data": {
      "image/png": "[encoded data removed]",
      "text/plain": [
       "<Figure size 800x600 with 1 Axes>"
      ]
     },
     "metadata": {},
     "output_type": "display_data"
    }
   ],
   "source": [
    "categories = ['A', 'B', 'C', 'D']\n",
    "values = [23, 45, 56, 78]\n",
    "\n",
    "plt.figure(figsize=(8, 6))\n",
    "plt.bar(categories, values, color=['red', 'blue', 'green', 'orange'])\n",
    "plt.title('Bar Chart Example')\n",
    "plt.xlabel('Categories')\n",
    "plt.ylabel('Values')\n",
    "plt.show()"
   ]
  },
  {
   "cell_type": "code",
   "execution_count": null,
   "id": "3e6184db",
   "metadata": {},
   "outputs": [],
   "source": [
    "%pip install numpy"
   ]
  },
  {
   "cell_type": "code",
   "execution_count": 16,
   "id": "3355a4a4",
   "metadata": {},
   "outputs": [
    {
     "name": "stdout",
     "output_type": "stream",
     "text": [
      "Installed packages:\n",
      "  - Automat\n",
      "  - Babel\n",
      "  - Bottleneck\n",
      "  - Brotli\n",
      "  - GitPython\n",
      "  - HeapDict\n",
      "  - Markdown\n",
      "  - MarkupSafe\n",
      "  - Protego\n",
      "  - PyDispatcher\n",
      "  - PyJWT\n",
      "  - PyQt5\n",
      "  - PyQt5-sip\n",
      "  - PyQtWebEngine\n",
      "  - PySocks\n",
      "  - PyYAML\n",
      "  - Pygments\n",
      "  - QDarkStyle\n",
      "  - QtAwesome\n",
      "  - QtPy\n",
      "  - Rtree\n",
      "  - SQLAlchemy\n",
      "  - Scrapy\n",
      "  - Send2Trash\n",
      "  - Unidecode\n",
      "  - accelerate\n",
      "  - aext-assistant\n",
      "  - aext-assistant-server\n",
      "  - aext-core\n",
      "  - aext-core-server\n",
      "  - aext-panels\n",
      "  - aext-panels-server\n",
      "  - aext-share-notebook\n",
      "  - aext-share-notebook-server\n",
      "  - aext-shared\n",
      "  - aiobotocore\n",
      "  - aiofiles\n",
      "  - aiohttp\n",
      "  - aioitertools\n",
      "  - aiosignal\n",
      "  - alabaster\n",
      "  - altair\n",
      "  - anaconda-anon-usage\n",
      "  - anaconda-catalogs\n",
      "  - anaconda-client\n",
      "  - anaconda-cloud-auth\n",
      "  - anaconda-navigator\n",
      "  - anaconda-project\n",
      "  - annotated-types\n",
      "  - anyio\n",
      "  - appdirs\n",
      "  - applaunchservices\n",
      "  - appnope\n",
      "  - appscript\n",
      "  - archspec\n",
      "  - argon2-cffi\n",
      "  - argon2-cffi-bindings\n",
      "  - arrow\n",
      "  - astroid\n",
      "  - astropy\n",
      "  - astropy-iers-data\n",
      "  - asttokens\n",
      "  - async-lru\n",
      "  - atomicwrites\n",
      "  - attrs\n",
      "  - autopep8\n",
      "  - backoff\n",
      "  - bcrypt\n",
      "  - beautifulsoup4\n",
      "  - binaryornot\n",
      "  - black\n",
      "  - bleach\n",
      "  - blinker\n",
      "  - blis\n",
      "  - bokeh\n",
      "  - boltons\n",
      "  - botocore\n",
      "  - cachetools\n",
      "  - catalogue\n",
      "  - certifi\n",
      "  - cffi\n",
      "  - chardet\n",
      "  - charset-normalizer\n",
      "  - click\n",
      "  - cloudpathlib\n",
      "  - cloudpickle\n",
      "  - cmudict\n",
      "  - colorama\n",
      "  - colorcet\n",
      "  - coloredlogs\n",
      "  - comm\n",
      "  - conda\n",
      "  - conda-build\n",
      "  - conda-content-trust\n",
      "  - conda-index\n",
      "  - conda-libmamba-solver\n",
      "  - conda-pack\n",
      "  - conda-package-handling\n",
      "  - conda-package-streaming\n",
      "  - conda-repo-cli\n",
      "  - conda-token\n",
      "  - confection\n",
      "  - constantly\n",
      "  - contourpy\n",
      "  - cookiecutter\n",
      "  - cryptography\n",
      "  - cssselect\n",
      "  - cycler\n",
      "  - cymem\n",
      "  - cytoolz\n",
      "  - dask\n",
      "  - dask-expr\n",
      "  - dataclasses-json\n",
      "  - datashader\n",
      "  - debugpy\n",
      "  - decorator\n",
      "  - defusedxml\n",
      "  - diff-match-patch\n",
      "  - dill\n",
      "  - distributed\n",
      "  - distro\n",
      "  - docarray\n",
      "  - docstring-to-markdown\n",
      "  - docutils\n",
      "  - emoji\n",
      "  - en-core-web-sm\n",
      "  - entrypoints\n",
      "  - et-xmlfile\n",
      "  - executing\n",
      "  - faiss-cpu\n",
      "  - fastjsonschema\n",
      "  - filelock\n",
      "  - filetype\n",
      "  - flake8\n",
      "  - flask\n",
      "  - flatbuffers\n",
      "  - fonttools\n",
      "  - frozendict\n",
      "  - frozenlist\n",
      "  - fsspec\n",
      "  - gensim\n",
      "  - gitdb\n",
      "  - greenlet\n",
      "  - h11\n",
      "  - h5py\n",
      "  - hf-xet\n",
      "  - holoviews\n",
      "  - html5lib\n",
      "  - httpcore\n",
      "  - httpx\n",
      "  - httpx-sse\n",
      "  - huggingface-hub\n",
      "  - humanfriendly\n",
      "  - hvplot\n",
      "  - hyperlink\n",
      "  - idna\n",
      "  - imagecodecs\n",
      "  - imageio\n",
      "  - imagesize\n",
      "  - imbalanced-learn\n",
      "  - importlib-metadata\n",
      "  - importlib-resources\n",
      "  - incremental\n",
      "  - inflection\n",
      "  - iniconfig\n",
      "  - intake\n",
      "  - intervaltree\n",
      "  - ipykernel\n",
      "  - ipython\n",
      "  - ipython-genutils\n",
      "  - ipywidgets\n",
      "  - isort\n",
      "  - itemadapter\n",
      "  - itemloaders\n",
      "  - itsdangerous\n",
      "  - jaraco.classes\n",
      "  - jedi\n",
      "  - jellyfish\n",
      "  - jinja2\n",
      "  - jiter\n",
      "  - jmespath\n",
      "  - joblib\n",
      "  - json5\n",
      "  - jsonpatch\n",
      "  - jsonpointer\n",
      "  - jsonschema\n",
      "  - jsonschema-specifications\n",
      "  - jupyter\n",
      "  - jupyter-client\n",
      "  - jupyter-console\n",
      "  - jupyter-core\n",
      "  - jupyter-events\n",
      "  - jupyter-lsp\n",
      "  - jupyter-server\n",
      "  - jupyter-server-terminals\n",
      "  - jupyterlab\n",
      "  - jupyterlab-pygments\n",
      "  - jupyterlab-server\n",
      "  - jupyterlab-widgets\n",
      "  - keyring\n",
      "  - kiwisolver\n",
      "  - langchain\n",
      "  - langchain-community\n",
      "  - langchain-core\n",
      "  - langchain-text-splitters\n",
      "  - langcodes\n",
      "  - langdetect\n",
      "  - langsmith\n",
      "  - language-data\n",
      "  - lazy-loader\n",
      "  - lazy-object-proxy\n",
      "  - lckr-jupyterlab-variableinspector\n",
      "  - lexical-diversity\n",
      "  - libarchive-c\n",
      "  - libmambapy\n",
      "  - linkify-it-py\n",
      "  - llvmlite\n",
      "  - lmdb\n",
      "  - locket\n",
      "  - lxml\n",
      "  - lz4\n",
      "  - marisa-trie\n",
      "  - markdown-it-py\n",
      "  - marshmallow\n",
      "  - matplotlib\n",
      "  - matplotlib-inline\n",
      "  - mccabe\n",
      "  - mdit-py-plugins\n",
      "  - mdurl\n",
      "  - menuinst\n",
      "  - mistune\n",
      "  - more-itertools\n",
      "  - mpmath\n",
      "  - msgpack\n",
      "  - multidict\n",
      "  - multipledispatch\n",
      "  - murmurhash\n",
      "  - mypy\n",
      "  - mypy-extensions\n",
      "  - navigator-updater\n",
      "  - nbclient\n",
      "  - nbconvert\n",
      "  - nbformat\n",
      "  - nest-asyncio\n",
      "  - networkx\n",
      "  - nltk\n",
      "  - notebook\n",
      "  - notebook-shim\n",
      "  - numba\n",
      "  - numexpr\n",
      "  - numpy\n",
      "  - numpydoc\n",
      "  - olefile\n",
      "  - onnx\n",
      "  - onnxruntime\n",
      "  - openai\n",
      "  - opencv-python\n",
      "  - openpyxl\n",
      "  - orjson\n",
      "  - overrides\n",
      "  - packaging\n",
      "  - pandas\n",
      "  - pandocfilters\n",
      "  - panel\n",
      "  - param\n",
      "  - parsel\n",
      "  - parso\n",
      "  - partd\n",
      "  - pathspec\n",
      "  - patsy\n",
      "  - pdfminer\n",
      "  - pdfminer-six\n",
      "  - pexpect\n",
      "  - pi-heif\n",
      "  - pickleshare\n",
      "  - pillow\n",
      "  - pip\n",
      "  - pkce\n",
      "  - pkginfo\n",
      "  - platformdirs\n",
      "  - plotly\n",
      "  - pluggy\n",
      "  - ply\n",
      "  - preshed\n",
      "  - prometheus-client\n",
      "  - prompt-toolkit\n",
      "  - protobuf\n",
      "  - psutil\n",
      "  - ptyprocess\n",
      "  - pure-eval\n",
      "  - py-cpuinfo\n",
      "  - pyOpenSSL\n",
      "  - pyarrow\n",
      "  - pyasn1\n",
      "  - pyasn1-modules\n",
      "  - pycodestyle\n",
      "  - pycosat\n",
      "  - pycparser\n",
      "  - pycryptodome\n",
      "  - pyct\n",
      "  - pycurl\n",
      "  - pydantic\n",
      "  - pydantic-core\n",
      "  - pydantic-settings\n",
      "  - pydeck\n",
      "  - pydocstyle\n",
      "  - pyerfa\n",
      "  - pyflakes\n",
      "  - pylint\n",
      "  - pylint-venv\n",
      "  - pyls-spyder\n",
      "  - pyobjc-core\n",
      "  - pyobjc-framework-Cocoa\n",
      "  - pyobjc-framework-CoreServices\n",
      "  - pyobjc-framework-FSEvents\n",
      "  - pyodbc\n",
      "  - pyparsing\n",
      "  - pypdf\n",
      "  - pypdf2\n",
      "  - pypdfium2\n",
      "  - pyphen\n",
      "  - pytest\n",
      "  - python-dateutil\n",
      "  - python-dotenv\n",
      "  - python-iso639\n",
      "  - python-json-logger\n",
      "  - python-lsp-black\n",
      "  - python-lsp-jsonrpc\n",
      "  - python-lsp-server\n",
      "  - python-magic\n",
      "  - python-multipart\n",
      "  - python-oxmsg\n",
      "  - python-slugify\n",
      "  - python-snappy\n",
      "  - pytoolconfig\n",
      "  - pytz\n",
      "  - pyviz-comms\n",
      "  - pywavelets\n",
      "  - pyzmq\n",
      "  - qstylizer\n",
      "  - qtconsole\n",
      "  - queuelib\n",
      "  - rapidfuzz\n",
      "  - referencing\n",
      "  - regex\n",
      "  - requests\n",
      "  - requests-file\n",
      "  - requests-toolbelt\n",
      "  - rfc3339-validator\n",
      "  - rfc3986-validator\n",
      "  - rich\n",
      "  - rope\n",
      "  - rpds-py\n",
      "  - ruamel-yaml-conda\n",
      "  - ruamel.yaml\n",
      "  - s3fs\n",
      "  - safetensors\n",
      "  - scikit-image\n",
      "  - scikit-learn\n",
      "  - scipy\n",
      "  - seaborn\n",
      "  - semver\n",
      "  - service-identity\n",
      "  - setuptools\n",
      "  - shellingham\n",
      "  - sip\n",
      "  - six\n",
      "  - smart-open\n",
      "  - smmap\n",
      "  - sniffio\n",
      "  - snowballstemmer\n",
      "  - sortedcontainers\n",
      "  - soupsieve\n",
      "  - spacy\n",
      "  - spacy-legacy\n",
      "  - spacy-loggers\n",
      "  - sphinx\n",
      "  - sphinxcontrib-applehelp\n",
      "  - sphinxcontrib-devhelp\n",
      "  - sphinxcontrib-htmlhelp\n",
      "  - sphinxcontrib-jsmath\n",
      "  - sphinxcontrib-qthelp\n",
      "  - sphinxcontrib-serializinghtml\n",
      "  - spyder\n",
      "  - spyder-kernels\n",
      "  - srsly\n",
      "  - stack-data\n",
      "  - statsmodels\n",
      "  - streamlit\n",
      "  - sympy\n",
      "  - tables\n",
      "  - tabulate\n",
      "  - tblib\n",
      "  - tenacity\n",
      "  - terminado\n",
      "  - text-unidecode\n",
      "  - textdistance\n",
      "  - textstat\n",
      "  - thinc\n",
      "  - threadpoolctl\n",
      "  - three-merge\n",
      "  - tifffile\n",
      "  - tiktoken\n",
      "  - timm\n",
      "  - tinycss2\n",
      "  - tldextract\n",
      "  - tokenizers\n",
      "  - toml\n",
      "  - tomli\n",
      "  - tomlkit\n",
      "  - toolz\n",
      "  - torch\n",
      "  - torchvision\n",
      "  - tornado\n",
      "  - tqdm\n",
      "  - traitlets\n",
      "  - transformers\n",
      "  - truststore\n",
      "  - twisted\n",
      "  - typer\n",
      "  - types-requests\n",
      "  - typing-extensions\n",
      "  - typing-inspect\n",
      "  - typing-inspection\n",
      "  - tzdata\n",
      "  - uc-micro-py\n",
      "  - ujson\n",
      "  - unicodedata2\n",
      "  - unstructured\n",
      "  - unstructured-client\n",
      "  - unstructured-inference\n",
      "  - urllib3\n",
      "  - w3lib\n",
      "  - wasabi\n",
      "  - watchdog\n",
      "  - wcwidth\n",
      "  - weasel\n",
      "  - webencodings\n",
      "  - websocket-client\n",
      "  - werkzeug\n",
      "  - whatthepatch\n",
      "  - wheel\n",
      "  - widgetsnbextension\n",
      "  - wrapt\n",
      "  - wurlitzer\n",
      "  - xarray\n",
      "  - xlwings\n",
      "  - xyzservices\n",
      "  - yapf\n",
      "  - yarl\n",
      "  - zict\n",
      "  - zipp\n",
      "  - zope.interface\n",
      "  - zstandard\n"
     ]
    }
   ],
   "source": [
    "import pkg_resources\n",
    "installed_packages = [d.project_name for d in pkg_resources.working_set]\n",
    "print(\"Installed packages:\")\n",
    "for package in sorted(installed_packages):\n",
    "    print(f\"  - {package}\")"
   ]
  },
  {
   "cell_type": "code",
   "execution_count": 17,
   "id": "3c0393b4",
   "metadata": {},
   "outputs": [
    {
     "name": "stdout",
     "output_type": "stream",
     "text": [
      "NumPy is available\n"
     ]
    }
   ],
   "source": [
    "try:\n",
    "    import numpy as np\n",
    "    print(\"NumPy is available\")\n",
    "    has_numpy = True\n",
    "except ImportError:\n",
    "    print(\"NumPy not installed\")\n",
    "    has_numpy = False"
   ]
  },
  {
   "cell_type": "code",
   "execution_count": 18,
   "id": "dd054219",
   "metadata": {},
   "outputs": [
    {
     "name": "stdout",
     "output_type": "stream",
     "text": [
      "NumPy array: [1 2 3 4 5]\n"
     ]
    }
   ],
   "source": [
    "if has_numpy:\n",
    "    data = np.array([1, 2, 3, 4, 5])\n",
    "    print(f\"NumPy array: {data}\")\n",
    "else:\n",
    "    data = [1, 2, 3, 4, 5]\n",
    "    print(f\"Regular list: {data}\")"
   ]
  },
  {
   "cell_type": "code",
   "execution_count": null,
   "id": "044318a7",
   "metadata": {},
   "outputs": [],
   "source": []
  }
 ],
 "metadata": {
  "kernelspec": {
   "display_name": "base",
   "language": "python",
   "name": "python3"
  },
  "language_info": {
   "codemirror_mode": {
    "name": "ipython",
    "version": 3
   },
   "file_extension": ".py",
   "mimetype": "text/x-python",
   "name": "python",
   "nbconvert_exporter": "python",
   "pygments_lexer": "ipython3",
   "version": "3.12.4"
  }
 },
 "nbformat": 4,
 "nbformat_minor": 5
}
