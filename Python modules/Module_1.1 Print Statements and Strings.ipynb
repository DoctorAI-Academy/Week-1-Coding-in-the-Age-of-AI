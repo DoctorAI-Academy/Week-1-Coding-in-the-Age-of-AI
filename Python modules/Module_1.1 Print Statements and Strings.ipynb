{
 "cells": [
  {
   "cell_type": "markdown",
   "id": "4aabf1d5",
   "metadata": {},
   "source": [
    "## Module 1.1: Print Statements and Strings\n",
    "\n",
    "In this module, you will learn how to make Python \"talk\" to you using print statements and work with text (strings)."
   ]
  },
  {
   "cell_type": "markdown",
   "id": "ed6e2c3d",
   "metadata": {},
   "source": [
    "## Learning Objectives\n",
    "\n",
    "- Use `print()` to display text and information\n",
    "- Understand different ways to write strings\n",
    "- Use escape characters for special formatting\n",
    "- Write clear comments to explain your code\n",
    "- Create simple text-based outputs"
   ]
  },
  {
   "cell_type": "markdown",
   "id": "32601d99",
   "metadata": {},
   "source": [
    "## Section 1: Your First Print Statement\n",
    "\n",
    "making Python say \"Hello, World!\"\n"
   ]
  },
  {
   "cell_type": "code",
   "execution_count": 1,
   "id": "f53e2f54",
   "metadata": {},
   "outputs": [
    {
     "name": "stdout",
     "output_type": "stream",
     "text": [
      "Hello, World!\n"
     ]
    }
   ],
   "source": [
    "print(\"Hello, World!\")"
   ]
  },
  {
   "cell_type": "markdown",
   "id": "0b5eaa08",
   "metadata": {},
   "source": [
    "## Section 2: Understanding Strings\n",
    "\n",
    "A string is any text enclosed in quotes. You can use single quotes `'` or double quotes `\"`.\n"
   ]
  },
  {
   "cell_type": "code",
   "execution_count": 3,
   "id": "ec639239",
   "metadata": {},
   "outputs": [
    {
     "name": "stdout",
     "output_type": "stream",
     "text": [
      "Welcome to Python programming\n",
      "Learning to code is fun\n",
      "AI is amazing\n",
      "AI is amazing\n"
     ]
    }
   ],
   "source": [
    "# Single quotes\n",
    "print('Welcome to Python programming')\n",
    "\n",
    "# Double quotes\n",
    "print(\"Learning to code is fun\")\n",
    "\n",
    "# Both work the same way\n",
    "print('AI is amazing')\n",
    "print(\"AI is amazing\")"
   ]
  },
  {
   "cell_type": "markdown",
   "id": "015f0343",
   "metadata": {},
   "source": [
    "## Section 3: Examples"
   ]
  },
  {
   "cell_type": "code",
   "execution_count": 5,
   "id": "dd74b562",
   "metadata": {},
   "outputs": [
    {
     "name": "stdout",
     "output_type": "stream",
     "text": [
      "Don't forget to buy: milk, eggs, and bread!\n",
      "Shopping List:\n",
      "  - Apples\n",
      "  - Bananas\n",
      "  - Oranges\n",
      "AI Assistant: Hello! I'm here to help you learn Python.\n",
      "AI Assistant: Today we'll explore print statements and strings.\n"
     ]
    }
   ],
   "source": [
    "print(\"Don't forget to buy: milk, eggs, and bread!\")\n",
    "\n",
    "print(\"Shopping List:\")\n",
    "print(\"  - Apples\")\n",
    "print(\"  - Bananas\") \n",
    "print(\"  - Oranges\")\n",
    "\n",
    "print(\"AI Assistant: Hello! I'm here to help you learn Python.\")\n",
    "print(\"AI Assistant: Today we'll explore print statements and strings.\")\n"
   ]
  },
  {
   "cell_type": "markdown",
   "id": "d82254a0",
   "metadata": {},
   "source": [
    "## Section 4: Comments"
   ]
  },
  {
   "cell_type": "code",
   "execution_count": null,
   "id": "57f3d5ec",
   "metadata": {},
   "outputs": [
    {
     "name": "stdout",
     "output_type": "stream",
     "text": [
      "Hello, World!\n",
      "Learning Python is fun!\n",
      "Comments help explain code\n"
     ]
    }
   ],
   "source": [
    "# This is a comment explaining what the print below does\n",
    "print(\"Hello, World!\")\n",
    "\n",
    "# Comments can be on their own line\n",
    "print(\"Learning Python is fun!\")\n",
    "\n",
    "# Or at the end of a line\n",
    "print(\"Comments help us explain code\")  # This comment explains the current line"
   ]
  },
  {
   "cell_type": "markdown",
   "id": "03db32b7",
   "metadata": {},
   "source": [
    "## Section 5: Special Characters and Escape Sequences"
   ]
  },
  {
   "cell_type": "code",
   "execution_count": 9,
   "id": "2c79b2ae",
   "metadata": {},
   "outputs": [
    {
     "name": "stdout",
     "output_type": "stream",
     "text": [
      "She said, 'Hello there!'\n",
      "He replied, \"Nice to meet you!\"\n"
     ]
    }
   ],
   "source": [
    "# Using different quote types in one print statement\n",
    "print(\"She said, 'Hello there!'\")\n",
    "print('He replied, \"Nice to meet you!\"')"
   ]
  },
  {
   "cell_type": "code",
   "execution_count": 8,
   "id": "5749c277",
   "metadata": {},
   "outputs": [
    {
     "name": "stdout",
     "output_type": "stream",
     "text": [
      "Quotes can be used like this: \"Stay curious!\"\n",
      "It's important to learn programming\n"
     ]
    }
   ],
   "source": [
    "# Using escape characters\n",
    "print(\"Quotes can be used like this: \\\"Stay curious!\\\"\")\n",
    "print('It\\'s important to learn programming')"
   ]
  },
  {
   "cell_type": "code",
   "execution_count": 12,
   "id": "b271860b",
   "metadata": {},
   "outputs": [
    {
     "name": "stdout",
     "output_type": "stream",
     "text": [
      "Shopping List:\n",
      "\t- Apples\n",
      "\t- Bananas\n",
      "\t- Oranges\n",
      "Python\t\tProgramming\n",
      "AI\t\t\tArtificial Intelligence\n"
     ]
    }
   ],
   "source": [
    "# New lines and tabs\n",
    "print(\"Shopping List:\\n\\t- Apples\\n\\t- Bananas\\n\\t- Oranges\")\n",
    "print(\"Python\\t\\tProgramming\")\n",
    "print(\"AI\\t\\t\\tArtificial Intelligence\")"
   ]
  },
  {
   "cell_type": "markdown",
   "id": "c53af894",
   "metadata": {},
   "source": [
    "## Section 6: Practice Exercises\n",
    "\n",
    "```python\n",
    "# Exercise 1: Personal Introduction\n",
    "print(\"Hi, I'm [Your Name] and I'm learning Python!\")\n",
    "\n",
    "# Exercise 2: Daily Schedule\n",
    "print(\"My Daily Schedule:\")\n",
    "print(\"  8:00 AM - Wake up\")\n",
    "print(\"  9:00 AM - Start learning Python\")\n",
    "print(\"  12:00 PM - Lunch break\")\n",
    "print(\"  2:00 PM - Continue coding\")\n",
    "\n",
    "# Exercise 3: AI Chat Simulation\n",
    "print(\"AI: Hello! How can I help you today?\")\n",
    "print(\"You: I want to learn Python\")\n",
    "print(\"AI: Great choice! Python is perfect for beginners and AI applications.\")\n",
    "```"
   ]
  },
  {
   "cell_type": "markdown",
   "id": "e1204444",
   "metadata": {},
   "source": [
    "## Section 7: How do we use these in practice?\n",
    "\n",
    "- Strings are fundamental for processing text data\n",
    "- Print statements help you debug AI models and see their outputs\n",
    "- Comments are crucial when working with complex AI algorithms\n",
    "- Text formatting is essential for creating user-friendly AI interfaces"
   ]
  },
  {
   "cell_type": "markdown",
   "id": "c4708abc",
   "metadata": {},
   "source": [
    "## Section 8: What we learnt\n",
    "\n",
    "- Print statements display information to the user\n",
    "- Strings are text enclosed in quotes\n",
    "- Comments explain your code and start with `#`\n",
    "- Escape characters help format text properly"
   ]
  },
  {
   "cell_type": "markdown",
   "id": "8fe4c904",
   "metadata": {},
   "source": [
    "\n",
    "**Exercise:** Try creating a simple story using only print statements and strings. Make it at least 5 lines long and use different formatting techniques you learned today."
   ]
  }
 ],
 "metadata": {
  "kernelspec": {
   "display_name": "base",
   "language": "python",
   "name": "python3"
  },
  "language_info": {
   "codemirror_mode": {
    "name": "ipython",
    "version": 3
   },
   "file_extension": ".py",
   "mimetype": "text/x-python",
   "name": "python",
   "nbconvert_exporter": "python",
   "pygments_lexer": "ipython3",
   "version": "3.12.4"
  }
 },
 "nbformat": 4,
 "nbformat_minor": 5
}
